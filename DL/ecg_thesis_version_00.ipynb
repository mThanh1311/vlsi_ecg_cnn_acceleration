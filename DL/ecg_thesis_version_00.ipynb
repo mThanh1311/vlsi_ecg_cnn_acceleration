{
 "cells": [
  {
   "cell_type": "markdown",
   "metadata": {},
   "source": [
    "### IMPORT LIBRARIES"
   ]
  },
  {
   "cell_type": "code",
   "execution_count": 126,
   "metadata": {
    "executionInfo": {
     "elapsed": 8613,
     "status": "ok",
     "timestamp": 1741357923575,
     "user": {
      "displayName": "Thành Trương Minh",
      "userId": "15206623473024326441"
     },
     "user_tz": -420
    },
    "id": "KiXyKudKwcb3"
   },
   "outputs": [],
   "source": [
    "import os\n",
    "import numpy as np\n",
    "import wfdb\n",
    "import cv2 as cv2\n",
    "from wfdb import processing\n",
    "import pandas as pd\n",
    "import pickle\n",
    "\n",
    "# Visualization\n",
    "import matplotlib.pyplot as plt\n",
    "import seaborn as sns\n",
    "\n",
    "# Signals dsp\n",
    "from scipy.signal import butter, lfilter, iirfilter\n",
    "from IPython.display import display\n",
    "from scipy.signal import freqz\n",
    "from scipy import signal\n",
    "\n",
    "# Sklearn\n",
    "from sklearn.utils import shuffle\n",
    "from sklearn.model_selection import train_test_split\n",
    "\n",
    "# Pytorch\n",
    "import torch\n",
    "\n",
    "# TensorFlow/Keras\n",
    "import tensorflow as tf\n",
    "from tensorflow.keras.models import Model, Sequential\n",
    "from tensorflow.keras.layers import (\n",
    "    Input, Dense, Dropout, Flatten, BatchNormalization, Activation,\n",
    "    Conv1D, MaxPooling1D, GlobalAveragePooling1D, AveragePooling1D,\n",
    "    Conv2D, MaxPooling2D, ZeroPadding2D\n",
    ")\n",
    "from tensorflow.keras.optimizers import Adam\n",
    "from tensorflow.keras.losses import CategoricalCrossentropy\n",
    "from tensorflow.keras.utils import plot_model"
   ]
  },
  {
   "cell_type": "markdown",
   "metadata": {},
   "source": [
    "### TEST DATA PREPROCESING"
   ]
  },
  {
   "cell_type": "code",
   "execution_count": 2,
   "metadata": {
    "executionInfo": {
     "elapsed": 5,
     "status": "ok",
     "timestamp": 1741357923589,
     "user": {
      "displayName": "Thành Trương Minh",
      "userId": "15206623473024326441"
     },
     "user_tz": -420
    },
    "id": "Cg6sEGGqcSsc"
   },
   "outputs": [],
   "source": [
    "# Data dir\n",
    "mitdb_path = r\"./Dataset/mitdb\""
   ]
  },
  {
   "cell_type": "code",
   "execution_count": 7,
   "metadata": {
    "executionInfo": {
     "elapsed": 2680,
     "status": "ok",
     "timestamp": 1741357926271,
     "user": {
      "displayName": "Thành Trương Minh",
      "userId": "15206623473024326441"
     },
     "user_tz": -420
    },
    "id": "DIeRagpxxjRb"
   },
   "outputs": [],
   "source": [
    "record = wfdb.rdsamp(mitdb_path + '/124')\n",
    "annotation = wfdb.rdann(mitdb_path+ '/124', 'atr')"
   ]
  },
  {
   "cell_type": "code",
   "execution_count": 4,
   "metadata": {
    "colab": {
     "base_uri": "https://localhost:8080/"
    },
    "executionInfo": {
     "elapsed": 35,
     "status": "ok",
     "timestamp": 1741357926311,
     "user": {
      "displayName": "Thành Trương Minh",
      "userId": "15206623473024326441"
     },
     "user_tz": -420
    },
    "id": "qIzONjLwxjPm",
    "outputId": "5579bf49-064d-4395-f519-38b2ad0dbc0d"
   },
   "outputs": [
    {
     "name": "stdout",
     "output_type": "stream",
     "text": [
      "You already have the data.\n"
     ]
    }
   ],
   "source": [
    "if os.path.isdir(mitdb_path):\n",
    "  print('You already have the data.')"
   ]
  },
  {
   "cell_type": "markdown",
   "metadata": {},
   "source": [
    "### FUNCTIONS: PREPROCESSING"
   ]
  },
  {
   "cell_type": "code",
   "execution_count": 148,
   "metadata": {
    "executionInfo": {
     "elapsed": 4,
     "status": "ok",
     "timestamp": 1741357982130,
     "user": {
      "displayName": "Thành Trương Minh",
      "userId": "15206623473024326441"
     },
     "user_tz": -420
    },
    "id": "vG0B_FwvxjVj"
   },
   "outputs": [],
   "source": [
    "# ============================================\n",
    "# Function: butter_bandpass\n",
    "# Description:\n",
    "#   Designs a Butterworth bandpass filter with given cutoff frequencies \n",
    "#   and sampling frequency, using scipy's butter function.\n",
    "#\n",
    "# Parameters:\n",
    "#   lowcut : float\n",
    "#       Lower cutoff frequency of the bandpass filter in Hz\n",
    "#   highcut : float\n",
    "#       Upper cutoff frequency of the bandpass filter in Hz\n",
    "#   fs : float\n",
    "#       Sampling frequency in Hz\n",
    "#   order : int, optional (default=3)\n",
    "#       Order of the Butterworth filter\n",
    "#\n",
    "# Returns:\n",
    "#   b : ndarray\n",
    "#       Numerator coefficients of the filter\n",
    "#   a : ndarray\n",
    "#       Denominator coefficients of the filter\n",
    "# ============================================\n",
    "def butter_bandpass(lowcut, highcut, fs, order=3):\n",
    "    nyquist = 0.5 * fs                      # Nyquist frequency (half the sampling rate)\n",
    "    low = lowcut / nyquist                  # Normalize lower cutoff frequency\n",
    "    high = highcut / nyquist                # Normalize upper cutoff frequency\n",
    "    b, a = butter(order, [low, high], btype='band')  # Design bandpass filter\n",
    "    return b, a                             # Return the filter coefficients\n",
    "\n",
    "# ============================================\n",
    "# Function: IIR filter (manual implementation using difference equation)\n",
    "# Description:\n",
    "#   Applies the IIR filter using the manually coded difference equation\n",
    "#   for the given signal and filter coefficients (b, a).\n",
    "#\n",
    "# Parameters:\n",
    "#   s_in : array-like\n",
    "#       Input signal to be filtered\n",
    "#   a : array-like\n",
    "#       Denominator (feedback) coefficients of the IIR filter\n",
    "#   b : array-like\n",
    "#       Numerator (feedforward) coefficients of the IIR filter\n",
    "#\n",
    "# Returns:\n",
    "#   y : array-like\n",
    "#       Filtered output signal of the same length as s_in\n",
    "# ============================================\n",
    "def iir_filter(s_in, a, b):\n",
    "    N = len(s_in)              # Total number of input samples\n",
    "    y = np.zeros(N)            # Initialize the output signal to zeros\n",
    "\n",
    "    for n in range(N):\n",
    "        # Feedforward part (numerator)\n",
    "        for j in range(len(b)):\n",
    "            if n - j >= 0:\n",
    "                y[n] += b[j] * s_in[n - j]  # Add feedforward terms\n",
    "\n",
    "        # Feedback part (denominator), skip a[0] since it is typically 1\n",
    "        for j in range(1, len(a)):\n",
    "            if n - j >= 0:\n",
    "                y[n] -= a[j] * y[n - j]  # Subtract feedback terms\n",
    "\n",
    "    return y  # Return the filtered signal\n",
    "\n",
    "# ============================================\n",
    "# Function: iir_bandpass_filter\n",
    "# Description:\n",
    "#   Applies a bandpass filter to the signal using the IIR filter \n",
    "#   designed by butter_bandpass() and applied with the iir_filter().\n",
    "#\n",
    "# Parameters:\n",
    "#   data : array-like\n",
    "#       Input ECG signal to be filtered\n",
    "#   lowcut : float\n",
    "#       Lower cutoff frequency in Hz for the bandpass filter\n",
    "#   highcut : float\n",
    "#       Upper cutoff frequency in Hz for the bandpass filter\n",
    "#   fs : float\n",
    "#       Sampling frequency in Hz\n",
    "#   order : int, optional (default=5)\n",
    "#       Order of the Butterworth filter\n",
    "#\n",
    "# Returns:\n",
    "#   y : array-like\n",
    "#       Filtered ECG signal after applying the IIR bandpass filter\n",
    "# ============================================\n",
    "def iir_bandpass_filter(data, lowcut, highcut, fs, order=5):\n",
    "    b, a = butter_bandpass(lowcut, highcut, fs, order)  # Get filter coefficients\n",
    "    y = iir_filter(data, a, b)  # Apply the IIR filter to the data\n",
    "    return y  # Return the filtered signal\n",
    "\n",
    "# ============================================\n",
    "# Function: normalize\n",
    "# Description:\n",
    "#   Normalizes the input signal to the range [0, 1].\n",
    "#\n",
    "# Parameters:\n",
    "#   sig : array-like\n",
    "#       Input signal to be normalized\n",
    "#\n",
    "# Returns:\n",
    "#   normalized_sig : array-like\n",
    "#       Normalized signal, scaled between 0 and 1\n",
    "# ============================================\n",
    "def normalized(sig):\n",
    "    normalized_sig = (sig - np.min(sig)) / (np.max(sig) - np.min(sig))  # Scale the signal\n",
    "    return normalized_sig  # Return the normalized signal\n",
    "\n",
    "# ============================================\n",
    "# Function: DynamicSegmentation\n",
    "# Description:\n",
    "#   Segments the ECG signal into individual heartbeats based on detected R-peaks.\n",
    "#   The segment length is dynamically determined by the RR interval.\n",
    "#\n",
    "# Parameters:\n",
    "#   peaksIndecies : array-like\n",
    "#       Indices of detected R-peaks in the ECG signal\n",
    "#   signal : array-like\n",
    "#       The input ECG signal from which the beats are extracted\n",
    "#\n",
    "# Returns:\n",
    "#   beats : list\n",
    "#       A list of segmented heartbeats, each containing the corresponding portion\n",
    "#       of the ECG signal based on the R-peak and surrounding RR intervals.\n",
    "# ============================================\n",
    "def DynamicSegmentation(peaksIndecies, signal):\n",
    "    beats = [[]]\n",
    "    beats.remove([])  # Remove the empty list that was initialized\n",
    "    for i in range(1, len(peaksIndecies) - 1):\n",
    "        RRPrev = peaksIndecies[i] - peaksIndecies[i - 1]  # Previous RR interval\n",
    "        RRNext = peaksIndecies[i + 1] - peaksIndecies[i]  # Next RR interval\n",
    "        RRMax = max(RRPrev, RRNext)  # Use the maximum RR interval for flexibility\n",
    "        start = peaksIndecies[i] - int((1 / 3.0) * RRMax)  # Calculate the start of the beat\n",
    "        end = peaksIndecies[i] + int((2 / 3.0) * RRMax)    # Calculate the end of the beat\n",
    "        beats.append(signal[start:end])  # Add the segment to the beats list\n",
    "    return beats  # Return the list of segmented beats\n",
    "\n",
    "# ============================================\n",
    "# Function: resampling\n",
    "# Description:\n",
    "#   Resamples each beat to a fixed sample rate to make the beats of uniform length.\n",
    "#\n",
    "# Parameters:\n",
    "#   beats : list\n",
    "#       List of segmented beats (ECG segments)\n",
    "#   samprate : int\n",
    "#       The desired sample rate for the resampling\n",
    "#\n",
    "# Returns:\n",
    "#   resampled : list\n",
    "#       A list of resampled beats, all of uniform length\n",
    "# ============================================\n",
    "def resampling(beats, samprate):\n",
    "    resampled = [[]]\n",
    "    resampled.remove([])  # Remove the empty list that was initialized\n",
    "    for i in beats:\n",
    "        resampled.append(list(signal.resample(i, samprate)))  # Resample each beat to the target rate\n",
    "    return resampled  # Return the list of resampled beats"
   ]
  },
  {
   "cell_type": "code",
   "execution_count": 149,
   "metadata": {
    "executionInfo": {
     "elapsed": 4,
     "status": "ok",
     "timestamp": 1741357986894,
     "user": {
      "displayName": "Thành Trương Minh",
      "userId": "15206623473024326441"
     },
     "user_tz": -420
    },
    "id": "0XCVtXPNgez7"
   },
   "outputs": [],
   "source": [
    "# ============================================================\n",
    "# Function: PreProcessing\n",
    "# Description:\n",
    "#   Complete ECG signal preprocessing pipeline including:\n",
    "#   - Bandpass filtering\n",
    "#   - Normalization\n",
    "#   - R-peak detection (if not provided)\n",
    "#   - Dynamic segmentation of heartbeats\n",
    "#   - Resampling of each heartbeat to fixed length\n",
    "#\n",
    "# Parameters:\n",
    "#   signal : array-like\n",
    "#       Raw ECG signal (typically from d_signal)\n",
    "#   fs : int, optional (default=360)\n",
    "#       Sampling frequency of the ECG signal\n",
    "#   datasetinds : list or None\n",
    "#       Optional: pre-computed list of R-peak indices.\n",
    "#       If None, the function will detect R-peaks using xqrs.\n",
    "#\n",
    "# Returns:\n",
    "#   beats : list of arrays\n",
    "#       List of resampled heartbeat segments, ready for CNN input\n",
    "# ============================================================\n",
    "def PreProcessing(signal, fs=360, datasetinds=None):\n",
    "\n",
    "    # Step 1: Apply IIR bandpass filter (default: 0.35–40 Hz, order 2)\n",
    "    filteredSig = iir_bandpass_filter(signal, 0.35, 40, fs, order=2)\n",
    "\n",
    "    # Step 2: Normalize the filtered signal to range [0, 1]\n",
    "    filteredSig = normalized(filteredSig)\n",
    "\n",
    "    # Step 3: Detect QRS peaks if not provided (using WFDB's xqrs)\n",
    "    if datasetinds is None:\n",
    "        # If signal has multiple channels, select the first channel\n",
    "        qrs_inds = processing.xqrs_detect(sig=filteredSig[:, 0], fs=fs)\n",
    "        beats = DynamicSegmentation(qrs_inds, filteredSig)\n",
    "    else:\n",
    "        # If R-peak indices are provided externally\n",
    "        beats = DynamicSegmentation(datasetinds, filteredSig)\n",
    "\n",
    "    # Step 4: Resample each beat to a fixed sample rate (default: 300 samples)\n",
    "    beats = resampling(beats, 300)\n",
    "\n",
    "    return beats  # Return processed and resampled beats\n"
   ]
  },
  {
   "cell_type": "markdown",
   "metadata": {},
   "source": [
    "### FUNCTIONS: PROCESSING DATA FOR ALL RECORDS"
   ]
  },
  {
   "cell_type": "code",
   "execution_count": 150,
   "metadata": {
    "executionInfo": {
     "elapsed": 4,
     "status": "ok",
     "timestamp": 1741357995210,
     "user": {
      "displayName": "Thành Trương Minh",
      "userId": "15206623473024326441"
     },
     "user_tz": -420
    },
    "id": "iOkL76KLi1vg"
   },
   "outputs": [],
   "source": [
    "# ================================================================\n",
    "# Function: filterAnnotation\n",
    "# Description:\n",
    "#   Filters out only the target annotation symbols from a WFDB\n",
    "#   annotation object (e.g., N, L, R, A, V, /).\n",
    "#\n",
    "# Parameters:\n",
    "#   annotation : wfdb.Annotation\n",
    "#       Annotation object from WFDB record\n",
    "#\n",
    "# Returns:\n",
    "#   annotations : list of str\n",
    "#       Filtered list of beat class symbols\n",
    "#   RPeaksInds : list of int\n",
    "#       Corresponding sample indices of the selected R-peaks\n",
    "# ================================================================\n",
    "def filterAnnotation(annotation):\n",
    "    classes = ['N', 'L', 'R', 'A', 'V', '/']\n",
    "    annotations = []\n",
    "    RPeaksInds = []\n",
    "    for ann in range(len(annotation.symbol)):\n",
    "        if annotation.symbol[ann] in classes:\n",
    "            annotations.append(annotation.symbol[ann])\n",
    "            RPeaksInds.append(annotation.sample[ann])\n",
    "    return annotations, RPeaksInds\n",
    "\n",
    "# def AppendBeatsOfSignalToFile(beats,filePath):\n",
    "#   if not os.path.exists(filePath):\n",
    "#     open(filePath, \"w\").close()\n",
    "\n",
    "#   f = open(filePath,\"a\")\n",
    "#   for i in range(len(beats)):\n",
    "#       for j in range(len(beats[i])):\n",
    "#           f.write(str(beats[i][j][0])+'|')\n",
    "#       f.write('\\n')\n",
    "#   f.close()\n",
    "#   return\n",
    "\n",
    "\n",
    "# ================================================================\n",
    "# Function: AppendBeatsOfSignalToFile\n",
    "# Description:\n",
    "#   Appends segmented and resampled beats to a file.\n",
    "#   Each beat is written as a line with values separated by '|'.\n",
    "#\n",
    "# Parameters:\n",
    "#   beats : list of beats\n",
    "#       Each beat is a resampled list/array of signal points\n",
    "#   filePath : str\n",
    "#       Path to output file to save the beats\n",
    "# ================================================================\n",
    "def AppendBeatsOfSignalToFile(beats, filePath):\n",
    "    if not os.path.exists(filePath):\n",
    "        open(filePath, \"w\").close()\n",
    "\n",
    "    f = open(filePath, \"a\")\n",
    "    for i in range(len(beats)):\n",
    "        for j in range(len(beats[i])):\n",
    "            # If data is nested (e.g., [ [x], [y] ]), take the first value\n",
    "            if isinstance(beats[i][j], (list, np.ndarray)): \n",
    "                f.write(str(beats[i][j][0]) + '|')\n",
    "            else:\n",
    "                f.write(str(beats[i][j]) + '|')\n",
    "        f.write('\\n')\n",
    "    f.close()\n",
    "    return\n",
    "\n",
    "\n",
    "# ================================================================\n",
    "# Function: WriteAnnotationSymbolToFile\n",
    "# Description:\n",
    "#   Writes each annotation symbol (e.g., N, L, R, etc.) to a text file,\n",
    "#   one per line. Skips the first and last symbol (likely to avoid edge artifacts).\n",
    "#\n",
    "# Parameters:\n",
    "#   annotationSymbol : list of str\n",
    "#       Annotation labels for each beat\n",
    "#   filepath : str\n",
    "#       File path to save annotation labels\n",
    "# ================================================================\n",
    "def WriteAnnotationSymbolToFile(annotationSymbol, filepath):\n",
    "    if not os.path.exists(filepath):\n",
    "        open(filepath, \"w\").close()\n",
    "    f = open(filepath, \"a\")\n",
    "    for i in range(1, len(annotationSymbol) - 1):\n",
    "        f.write(str(annotationSymbol[i]) + '\\n')\n",
    "    f.close()\n",
    "    return\n",
    "\n",
    "\n",
    "# ================================================================\n",
    "# Function: PrepareFiles\n",
    "# Description:\n",
    "#   Processes multiple MIT-BIH ECG records by:\n",
    "#   - Loading signals and annotations\n",
    "#   - Filtering + segmenting + resampling beats\n",
    "#   - Saving beats and their labels to file\n",
    "#\n",
    "# Parameters:\n",
    "#   filenames : list of str\n",
    "#       List of record IDs (e.g., ['100', '101', '102'])\n",
    "#   directory : str\n",
    "#       Target directory to save results\n",
    "# ================================================================\n",
    "def PrepareFiles(filenames, directory):\n",
    "    print('writing files has been started')\n",
    "    for i in range(len(filenames)):\n",
    "        print('Now in record ' + str(filenames[i]))\n",
    "        # Load annotation and extract filtered R-peaks\n",
    "        annotation = wfdb.rdann(r'./Dataset/mitdb/' + str(filenames[i]), 'atr')\n",
    "        annotation.symbol, annotation.sample = filterAnnotation(annotation)\n",
    "        # Load raw ECG signal (channel 0)\n",
    "        sig, fields = wfdb.rdsamp(r'./Dataset/mitdb/' + str(filenames[i]), channels=[0], sampfrom=0, sampto=None)\n",
    "        # Preprocess (filter → normalize → segment → resample)\n",
    "        beats = PreProcessing(sig, fields['fs'], annotation.sample)\n",
    "\n",
    "        # Save processed beats and corresponding labels\n",
    "        AppendBeatsOfSignalToFile(beats, directory + 'mitdbAllBeats.txt')\n",
    "        WriteAnnotationSymbolToFile(annotation.symbol, directory + 'mitdbAllAnnotationsSymbols.txt')\n",
    "    print('done')\n",
    "\n",
    "\n",
    "# ================================================================\n",
    "# Function: ClusteringBeatsInFiles\n",
    "# Description:\n",
    "#   Splits preprocessed beats from file into separate files by class label.\n",
    "#\n",
    "# Parameters:\n",
    "#   BeatsFilePath : str\n",
    "#       Path to the text file containing beat data\n",
    "#   AnnotationFilePath : str\n",
    "#       Path to the annotation labels corresponding to each beat\n",
    "#   directory : str\n",
    "#       Output directory to save per-class beat files\n",
    "# ================================================================\n",
    "def ClusteringBeatsInFiles(BeatsFilePath, AnnotationFilePath, directory):\n",
    "    classes = ['N', 'L', 'R', 'A', 'V', '/']\n",
    "    bf = open(BeatsFilePath, \"r\")\n",
    "    annf = open(AnnotationFilePath, \"r\")\n",
    "    beats = bf.readlines()\n",
    "    annotations = annf.readlines()\n",
    "    print(len(beats))\n",
    "    print(len(annotations))\n",
    "\n",
    "    # Prepare containers for each beat class\n",
    "    b = {}\n",
    "    files = {\n",
    "        'N': 'Normal',\n",
    "        'L': 'Left_bundle_branch_block',\n",
    "        'R': 'Right_bundle_branch_block',\n",
    "        'A': 'Atrial_premature',\n",
    "        'V': 'Premature_ventricular_contraction',\n",
    "        '/': 'Paced'\n",
    "    }\n",
    "    for i in classes:\n",
    "        b[i] = []\n",
    "\n",
    "    # Assign beats to corresponding class\n",
    "    for i in range(len(beats)):\n",
    "        beat_class = annotations[i].strip()\n",
    "        if beat_class in b:\n",
    "            b[beat_class].append(beats[i])\n",
    "\n",
    "    # Write beats per class to separate files\n",
    "    for ann, bts in b.items():\n",
    "        f = open(directory + files[ann] + '.txt', \"w\")\n",
    "        f.writelines(bts)\n",
    "        f.close()"
   ]
  },
  {
   "cell_type": "code",
   "execution_count": 151,
   "metadata": {
    "executionInfo": {
     "elapsed": 6,
     "status": "ok",
     "timestamp": 1741357995215,
     "user": {
      "displayName": "Thành Trương Minh",
      "userId": "15206623473024326441"
     },
     "user_tz": -420
    },
    "id": "Cuw3EJmE3z1s"
   },
   "outputs": [],
   "source": [
    "all_records = [100, 101, 102, 103, 104, 105, 106, 107, 108, 109,\n",
    "             111, 112, 113, 114, 115, 116, 117, 118, 119, 121,\n",
    "             122, 123, 124, 200, 201, 202, 203, 205, 207, 208,\n",
    "             209, 210, 212, 213, 214, 215, 217, 219, 220, 221,\n",
    "             222, 223, 228, 230, 231, 232, 233, 234]\n",
    "\n",
    "train_records = [101,102, 104, 106,108,109,112,114,115,116,118,119,122,124,201,203,205,207,208,209,215,220,223,230]\n",
    "test_records = [100,103,105,107, 111,113,117,121,123,200,202,210,212,213,214, 217,219,221,222,228,231,232,233,234]"
   ]
  },
  {
   "cell_type": "code",
   "execution_count": 152,
   "metadata": {
    "colab": {
     "base_uri": "https://localhost:8080/"
    },
    "executionInfo": {
     "elapsed": 103163,
     "status": "ok",
     "timestamp": 1741358098376,
     "user": {
      "displayName": "Thành Trương Minh",
      "userId": "15206623473024326441"
     },
     "user_tz": -420
    },
    "id": "eQOgM8nVi1yX",
    "outputId": "e589d722-5b44-4148-9446-66aa1363e7ce"
   },
   "outputs": [
    {
     "name": "stdout",
     "output_type": "stream",
     "text": [
      "writing files has been started\n",
      "Now in record 101\n"
     ]
    },
    {
     "name": "stderr",
     "output_type": "stream",
     "text": [
      "C:\\Users\\AD\\AppData\\Local\\Temp\\ipykernel_3988\\1434268807.py:56: DeprecationWarning: Conversion of an array with ndim > 0 to a scalar is deprecated, and will error in future. Ensure you extract a single element from your array before performing this operation. (Deprecated NumPy 1.25.)\n",
      "  y[n] += b[j] * s_in[n - j]  # Add feedforward terms\n"
     ]
    },
    {
     "name": "stdout",
     "output_type": "stream",
     "text": [
      "Now in record 102\n"
     ]
    },
    {
     "name": "stderr",
     "output_type": "stream",
     "text": [
      "C:\\Users\\AD\\AppData\\Local\\Temp\\ipykernel_3988\\1434268807.py:56: DeprecationWarning: Conversion of an array with ndim > 0 to a scalar is deprecated, and will error in future. Ensure you extract a single element from your array before performing this operation. (Deprecated NumPy 1.25.)\n",
      "  y[n] += b[j] * s_in[n - j]  # Add feedforward terms\n"
     ]
    },
    {
     "name": "stdout",
     "output_type": "stream",
     "text": [
      "Now in record 104\n"
     ]
    },
    {
     "name": "stderr",
     "output_type": "stream",
     "text": [
      "C:\\Users\\AD\\AppData\\Local\\Temp\\ipykernel_3988\\1434268807.py:56: DeprecationWarning: Conversion of an array with ndim > 0 to a scalar is deprecated, and will error in future. Ensure you extract a single element from your array before performing this operation. (Deprecated NumPy 1.25.)\n",
      "  y[n] += b[j] * s_in[n - j]  # Add feedforward terms\n"
     ]
    },
    {
     "name": "stdout",
     "output_type": "stream",
     "text": [
      "Now in record 106\n"
     ]
    },
    {
     "name": "stderr",
     "output_type": "stream",
     "text": [
      "C:\\Users\\AD\\AppData\\Local\\Temp\\ipykernel_3988\\1434268807.py:56: DeprecationWarning: Conversion of an array with ndim > 0 to a scalar is deprecated, and will error in future. Ensure you extract a single element from your array before performing this operation. (Deprecated NumPy 1.25.)\n",
      "  y[n] += b[j] * s_in[n - j]  # Add feedforward terms\n"
     ]
    },
    {
     "name": "stdout",
     "output_type": "stream",
     "text": [
      "Now in record 108\n"
     ]
    },
    {
     "name": "stderr",
     "output_type": "stream",
     "text": [
      "C:\\Users\\AD\\AppData\\Local\\Temp\\ipykernel_3988\\1434268807.py:56: DeprecationWarning: Conversion of an array with ndim > 0 to a scalar is deprecated, and will error in future. Ensure you extract a single element from your array before performing this operation. (Deprecated NumPy 1.25.)\n",
      "  y[n] += b[j] * s_in[n - j]  # Add feedforward terms\n"
     ]
    },
    {
     "name": "stdout",
     "output_type": "stream",
     "text": [
      "Now in record 109\n"
     ]
    },
    {
     "name": "stderr",
     "output_type": "stream",
     "text": [
      "C:\\Users\\AD\\AppData\\Local\\Temp\\ipykernel_3988\\1434268807.py:56: DeprecationWarning: Conversion of an array with ndim > 0 to a scalar is deprecated, and will error in future. Ensure you extract a single element from your array before performing this operation. (Deprecated NumPy 1.25.)\n",
      "  y[n] += b[j] * s_in[n - j]  # Add feedforward terms\n"
     ]
    },
    {
     "name": "stdout",
     "output_type": "stream",
     "text": [
      "Now in record 112\n"
     ]
    },
    {
     "name": "stderr",
     "output_type": "stream",
     "text": [
      "C:\\Users\\AD\\AppData\\Local\\Temp\\ipykernel_3988\\1434268807.py:56: DeprecationWarning: Conversion of an array with ndim > 0 to a scalar is deprecated, and will error in future. Ensure you extract a single element from your array before performing this operation. (Deprecated NumPy 1.25.)\n",
      "  y[n] += b[j] * s_in[n - j]  # Add feedforward terms\n"
     ]
    },
    {
     "name": "stdout",
     "output_type": "stream",
     "text": [
      "Now in record 114\n"
     ]
    },
    {
     "name": "stderr",
     "output_type": "stream",
     "text": [
      "C:\\Users\\AD\\AppData\\Local\\Temp\\ipykernel_3988\\1434268807.py:56: DeprecationWarning: Conversion of an array with ndim > 0 to a scalar is deprecated, and will error in future. Ensure you extract a single element from your array before performing this operation. (Deprecated NumPy 1.25.)\n",
      "  y[n] += b[j] * s_in[n - j]  # Add feedforward terms\n"
     ]
    },
    {
     "name": "stdout",
     "output_type": "stream",
     "text": [
      "Now in record 115\n"
     ]
    },
    {
     "name": "stderr",
     "output_type": "stream",
     "text": [
      "C:\\Users\\AD\\AppData\\Local\\Temp\\ipykernel_3988\\1434268807.py:56: DeprecationWarning: Conversion of an array with ndim > 0 to a scalar is deprecated, and will error in future. Ensure you extract a single element from your array before performing this operation. (Deprecated NumPy 1.25.)\n",
      "  y[n] += b[j] * s_in[n - j]  # Add feedforward terms\n"
     ]
    },
    {
     "name": "stdout",
     "output_type": "stream",
     "text": [
      "Now in record 116\n"
     ]
    },
    {
     "name": "stderr",
     "output_type": "stream",
     "text": [
      "C:\\Users\\AD\\AppData\\Local\\Temp\\ipykernel_3988\\1434268807.py:56: DeprecationWarning: Conversion of an array with ndim > 0 to a scalar is deprecated, and will error in future. Ensure you extract a single element from your array before performing this operation. (Deprecated NumPy 1.25.)\n",
      "  y[n] += b[j] * s_in[n - j]  # Add feedforward terms\n"
     ]
    },
    {
     "name": "stdout",
     "output_type": "stream",
     "text": [
      "Now in record 118\n"
     ]
    },
    {
     "name": "stderr",
     "output_type": "stream",
     "text": [
      "C:\\Users\\AD\\AppData\\Local\\Temp\\ipykernel_3988\\1434268807.py:56: DeprecationWarning: Conversion of an array with ndim > 0 to a scalar is deprecated, and will error in future. Ensure you extract a single element from your array before performing this operation. (Deprecated NumPy 1.25.)\n",
      "  y[n] += b[j] * s_in[n - j]  # Add feedforward terms\n"
     ]
    },
    {
     "name": "stdout",
     "output_type": "stream",
     "text": [
      "Now in record 119\n"
     ]
    },
    {
     "name": "stderr",
     "output_type": "stream",
     "text": [
      "C:\\Users\\AD\\AppData\\Local\\Temp\\ipykernel_3988\\1434268807.py:56: DeprecationWarning: Conversion of an array with ndim > 0 to a scalar is deprecated, and will error in future. Ensure you extract a single element from your array before performing this operation. (Deprecated NumPy 1.25.)\n",
      "  y[n] += b[j] * s_in[n - j]  # Add feedforward terms\n"
     ]
    },
    {
     "name": "stdout",
     "output_type": "stream",
     "text": [
      "Now in record 122\n"
     ]
    },
    {
     "name": "stderr",
     "output_type": "stream",
     "text": [
      "C:\\Users\\AD\\AppData\\Local\\Temp\\ipykernel_3988\\1434268807.py:56: DeprecationWarning: Conversion of an array with ndim > 0 to a scalar is deprecated, and will error in future. Ensure you extract a single element from your array before performing this operation. (Deprecated NumPy 1.25.)\n",
      "  y[n] += b[j] * s_in[n - j]  # Add feedforward terms\n"
     ]
    },
    {
     "name": "stdout",
     "output_type": "stream",
     "text": [
      "Now in record 124\n"
     ]
    },
    {
     "name": "stderr",
     "output_type": "stream",
     "text": [
      "C:\\Users\\AD\\AppData\\Local\\Temp\\ipykernel_3988\\1434268807.py:56: DeprecationWarning: Conversion of an array with ndim > 0 to a scalar is deprecated, and will error in future. Ensure you extract a single element from your array before performing this operation. (Deprecated NumPy 1.25.)\n",
      "  y[n] += b[j] * s_in[n - j]  # Add feedforward terms\n"
     ]
    },
    {
     "name": "stdout",
     "output_type": "stream",
     "text": [
      "Now in record 201\n"
     ]
    },
    {
     "name": "stderr",
     "output_type": "stream",
     "text": [
      "C:\\Users\\AD\\AppData\\Local\\Temp\\ipykernel_3988\\1434268807.py:56: DeprecationWarning: Conversion of an array with ndim > 0 to a scalar is deprecated, and will error in future. Ensure you extract a single element from your array before performing this operation. (Deprecated NumPy 1.25.)\n",
      "  y[n] += b[j] * s_in[n - j]  # Add feedforward terms\n"
     ]
    },
    {
     "name": "stdout",
     "output_type": "stream",
     "text": [
      "Now in record 203\n"
     ]
    },
    {
     "name": "stderr",
     "output_type": "stream",
     "text": [
      "C:\\Users\\AD\\AppData\\Local\\Temp\\ipykernel_3988\\1434268807.py:56: DeprecationWarning: Conversion of an array with ndim > 0 to a scalar is deprecated, and will error in future. Ensure you extract a single element from your array before performing this operation. (Deprecated NumPy 1.25.)\n",
      "  y[n] += b[j] * s_in[n - j]  # Add feedforward terms\n"
     ]
    },
    {
     "name": "stdout",
     "output_type": "stream",
     "text": [
      "Now in record 205\n"
     ]
    },
    {
     "name": "stderr",
     "output_type": "stream",
     "text": [
      "C:\\Users\\AD\\AppData\\Local\\Temp\\ipykernel_3988\\1434268807.py:56: DeprecationWarning: Conversion of an array with ndim > 0 to a scalar is deprecated, and will error in future. Ensure you extract a single element from your array before performing this operation. (Deprecated NumPy 1.25.)\n",
      "  y[n] += b[j] * s_in[n - j]  # Add feedforward terms\n"
     ]
    },
    {
     "name": "stdout",
     "output_type": "stream",
     "text": [
      "Now in record 207\n"
     ]
    },
    {
     "name": "stderr",
     "output_type": "stream",
     "text": [
      "C:\\Users\\AD\\AppData\\Local\\Temp\\ipykernel_3988\\1434268807.py:56: DeprecationWarning: Conversion of an array with ndim > 0 to a scalar is deprecated, and will error in future. Ensure you extract a single element from your array before performing this operation. (Deprecated NumPy 1.25.)\n",
      "  y[n] += b[j] * s_in[n - j]  # Add feedforward terms\n"
     ]
    },
    {
     "name": "stdout",
     "output_type": "stream",
     "text": [
      "Now in record 208\n"
     ]
    },
    {
     "name": "stderr",
     "output_type": "stream",
     "text": [
      "C:\\Users\\AD\\AppData\\Local\\Temp\\ipykernel_3988\\1434268807.py:56: DeprecationWarning: Conversion of an array with ndim > 0 to a scalar is deprecated, and will error in future. Ensure you extract a single element from your array before performing this operation. (Deprecated NumPy 1.25.)\n",
      "  y[n] += b[j] * s_in[n - j]  # Add feedforward terms\n"
     ]
    },
    {
     "name": "stdout",
     "output_type": "stream",
     "text": [
      "Now in record 209\n"
     ]
    },
    {
     "name": "stderr",
     "output_type": "stream",
     "text": [
      "C:\\Users\\AD\\AppData\\Local\\Temp\\ipykernel_3988\\1434268807.py:56: DeprecationWarning: Conversion of an array with ndim > 0 to a scalar is deprecated, and will error in future. Ensure you extract a single element from your array before performing this operation. (Deprecated NumPy 1.25.)\n",
      "  y[n] += b[j] * s_in[n - j]  # Add feedforward terms\n"
     ]
    },
    {
     "name": "stdout",
     "output_type": "stream",
     "text": [
      "Now in record 215\n"
     ]
    },
    {
     "name": "stderr",
     "output_type": "stream",
     "text": [
      "C:\\Users\\AD\\AppData\\Local\\Temp\\ipykernel_3988\\1434268807.py:56: DeprecationWarning: Conversion of an array with ndim > 0 to a scalar is deprecated, and will error in future. Ensure you extract a single element from your array before performing this operation. (Deprecated NumPy 1.25.)\n",
      "  y[n] += b[j] * s_in[n - j]  # Add feedforward terms\n"
     ]
    },
    {
     "name": "stdout",
     "output_type": "stream",
     "text": [
      "Now in record 220\n"
     ]
    },
    {
     "name": "stderr",
     "output_type": "stream",
     "text": [
      "C:\\Users\\AD\\AppData\\Local\\Temp\\ipykernel_3988\\1434268807.py:56: DeprecationWarning: Conversion of an array with ndim > 0 to a scalar is deprecated, and will error in future. Ensure you extract a single element from your array before performing this operation. (Deprecated NumPy 1.25.)\n",
      "  y[n] += b[j] * s_in[n - j]  # Add feedforward terms\n"
     ]
    },
    {
     "name": "stdout",
     "output_type": "stream",
     "text": [
      "Now in record 223\n"
     ]
    },
    {
     "name": "stderr",
     "output_type": "stream",
     "text": [
      "C:\\Users\\AD\\AppData\\Local\\Temp\\ipykernel_3988\\1434268807.py:56: DeprecationWarning: Conversion of an array with ndim > 0 to a scalar is deprecated, and will error in future. Ensure you extract a single element from your array before performing this operation. (Deprecated NumPy 1.25.)\n",
      "  y[n] += b[j] * s_in[n - j]  # Add feedforward terms\n"
     ]
    },
    {
     "name": "stdout",
     "output_type": "stream",
     "text": [
      "Now in record 230\n"
     ]
    },
    {
     "name": "stderr",
     "output_type": "stream",
     "text": [
      "C:\\Users\\AD\\AppData\\Local\\Temp\\ipykernel_3988\\1434268807.py:56: DeprecationWarning: Conversion of an array with ndim > 0 to a scalar is deprecated, and will error in future. Ensure you extract a single element from your array before performing this operation. (Deprecated NumPy 1.25.)\n",
      "  y[n] += b[j] * s_in[n - j]  # Add feedforward terms\n"
     ]
    },
    {
     "name": "stdout",
     "output_type": "stream",
     "text": [
      "done\n",
      "writing files has been started\n",
      "Now in record 100\n"
     ]
    },
    {
     "name": "stderr",
     "output_type": "stream",
     "text": [
      "C:\\Users\\AD\\AppData\\Local\\Temp\\ipykernel_3988\\1434268807.py:56: DeprecationWarning: Conversion of an array with ndim > 0 to a scalar is deprecated, and will error in future. Ensure you extract a single element from your array before performing this operation. (Deprecated NumPy 1.25.)\n",
      "  y[n] += b[j] * s_in[n - j]  # Add feedforward terms\n"
     ]
    },
    {
     "name": "stdout",
     "output_type": "stream",
     "text": [
      "Now in record 103\n"
     ]
    },
    {
     "name": "stderr",
     "output_type": "stream",
     "text": [
      "C:\\Users\\AD\\AppData\\Local\\Temp\\ipykernel_3988\\1434268807.py:56: DeprecationWarning: Conversion of an array with ndim > 0 to a scalar is deprecated, and will error in future. Ensure you extract a single element from your array before performing this operation. (Deprecated NumPy 1.25.)\n",
      "  y[n] += b[j] * s_in[n - j]  # Add feedforward terms\n"
     ]
    },
    {
     "name": "stdout",
     "output_type": "stream",
     "text": [
      "Now in record 105\n"
     ]
    },
    {
     "name": "stderr",
     "output_type": "stream",
     "text": [
      "C:\\Users\\AD\\AppData\\Local\\Temp\\ipykernel_3988\\1434268807.py:56: DeprecationWarning: Conversion of an array with ndim > 0 to a scalar is deprecated, and will error in future. Ensure you extract a single element from your array before performing this operation. (Deprecated NumPy 1.25.)\n",
      "  y[n] += b[j] * s_in[n - j]  # Add feedforward terms\n"
     ]
    },
    {
     "name": "stdout",
     "output_type": "stream",
     "text": [
      "Now in record 107\n"
     ]
    },
    {
     "name": "stderr",
     "output_type": "stream",
     "text": [
      "C:\\Users\\AD\\AppData\\Local\\Temp\\ipykernel_3988\\1434268807.py:56: DeprecationWarning: Conversion of an array with ndim > 0 to a scalar is deprecated, and will error in future. Ensure you extract a single element from your array before performing this operation. (Deprecated NumPy 1.25.)\n",
      "  y[n] += b[j] * s_in[n - j]  # Add feedforward terms\n"
     ]
    },
    {
     "name": "stdout",
     "output_type": "stream",
     "text": [
      "Now in record 111\n"
     ]
    },
    {
     "name": "stderr",
     "output_type": "stream",
     "text": [
      "C:\\Users\\AD\\AppData\\Local\\Temp\\ipykernel_3988\\1434268807.py:56: DeprecationWarning: Conversion of an array with ndim > 0 to a scalar is deprecated, and will error in future. Ensure you extract a single element from your array before performing this operation. (Deprecated NumPy 1.25.)\n",
      "  y[n] += b[j] * s_in[n - j]  # Add feedforward terms\n"
     ]
    },
    {
     "name": "stdout",
     "output_type": "stream",
     "text": [
      "Now in record 113\n"
     ]
    },
    {
     "name": "stderr",
     "output_type": "stream",
     "text": [
      "C:\\Users\\AD\\AppData\\Local\\Temp\\ipykernel_3988\\1434268807.py:56: DeprecationWarning: Conversion of an array with ndim > 0 to a scalar is deprecated, and will error in future. Ensure you extract a single element from your array before performing this operation. (Deprecated NumPy 1.25.)\n",
      "  y[n] += b[j] * s_in[n - j]  # Add feedforward terms\n"
     ]
    },
    {
     "name": "stdout",
     "output_type": "stream",
     "text": [
      "Now in record 117\n"
     ]
    },
    {
     "name": "stderr",
     "output_type": "stream",
     "text": [
      "C:\\Users\\AD\\AppData\\Local\\Temp\\ipykernel_3988\\1434268807.py:56: DeprecationWarning: Conversion of an array with ndim > 0 to a scalar is deprecated, and will error in future. Ensure you extract a single element from your array before performing this operation. (Deprecated NumPy 1.25.)\n",
      "  y[n] += b[j] * s_in[n - j]  # Add feedforward terms\n"
     ]
    },
    {
     "name": "stdout",
     "output_type": "stream",
     "text": [
      "Now in record 121\n"
     ]
    },
    {
     "name": "stderr",
     "output_type": "stream",
     "text": [
      "C:\\Users\\AD\\AppData\\Local\\Temp\\ipykernel_3988\\1434268807.py:56: DeprecationWarning: Conversion of an array with ndim > 0 to a scalar is deprecated, and will error in future. Ensure you extract a single element from your array before performing this operation. (Deprecated NumPy 1.25.)\n",
      "  y[n] += b[j] * s_in[n - j]  # Add feedforward terms\n"
     ]
    },
    {
     "name": "stdout",
     "output_type": "stream",
     "text": [
      "Now in record 123\n"
     ]
    },
    {
     "name": "stderr",
     "output_type": "stream",
     "text": [
      "C:\\Users\\AD\\AppData\\Local\\Temp\\ipykernel_3988\\1434268807.py:56: DeprecationWarning: Conversion of an array with ndim > 0 to a scalar is deprecated, and will error in future. Ensure you extract a single element from your array before performing this operation. (Deprecated NumPy 1.25.)\n",
      "  y[n] += b[j] * s_in[n - j]  # Add feedforward terms\n"
     ]
    },
    {
     "name": "stdout",
     "output_type": "stream",
     "text": [
      "Now in record 200\n"
     ]
    },
    {
     "name": "stderr",
     "output_type": "stream",
     "text": [
      "C:\\Users\\AD\\AppData\\Local\\Temp\\ipykernel_3988\\1434268807.py:56: DeprecationWarning: Conversion of an array with ndim > 0 to a scalar is deprecated, and will error in future. Ensure you extract a single element from your array before performing this operation. (Deprecated NumPy 1.25.)\n",
      "  y[n] += b[j] * s_in[n - j]  # Add feedforward terms\n"
     ]
    },
    {
     "name": "stdout",
     "output_type": "stream",
     "text": [
      "Now in record 202\n"
     ]
    },
    {
     "name": "stderr",
     "output_type": "stream",
     "text": [
      "C:\\Users\\AD\\AppData\\Local\\Temp\\ipykernel_3988\\1434268807.py:56: DeprecationWarning: Conversion of an array with ndim > 0 to a scalar is deprecated, and will error in future. Ensure you extract a single element from your array before performing this operation. (Deprecated NumPy 1.25.)\n",
      "  y[n] += b[j] * s_in[n - j]  # Add feedforward terms\n"
     ]
    },
    {
     "name": "stdout",
     "output_type": "stream",
     "text": [
      "Now in record 210\n"
     ]
    },
    {
     "name": "stderr",
     "output_type": "stream",
     "text": [
      "C:\\Users\\AD\\AppData\\Local\\Temp\\ipykernel_3988\\1434268807.py:56: DeprecationWarning: Conversion of an array with ndim > 0 to a scalar is deprecated, and will error in future. Ensure you extract a single element from your array before performing this operation. (Deprecated NumPy 1.25.)\n",
      "  y[n] += b[j] * s_in[n - j]  # Add feedforward terms\n"
     ]
    },
    {
     "name": "stdout",
     "output_type": "stream",
     "text": [
      "Now in record 212\n"
     ]
    },
    {
     "name": "stderr",
     "output_type": "stream",
     "text": [
      "C:\\Users\\AD\\AppData\\Local\\Temp\\ipykernel_3988\\1434268807.py:56: DeprecationWarning: Conversion of an array with ndim > 0 to a scalar is deprecated, and will error in future. Ensure you extract a single element from your array before performing this operation. (Deprecated NumPy 1.25.)\n",
      "  y[n] += b[j] * s_in[n - j]  # Add feedforward terms\n"
     ]
    },
    {
     "name": "stdout",
     "output_type": "stream",
     "text": [
      "Now in record 213\n"
     ]
    },
    {
     "name": "stderr",
     "output_type": "stream",
     "text": [
      "C:\\Users\\AD\\AppData\\Local\\Temp\\ipykernel_3988\\1434268807.py:56: DeprecationWarning: Conversion of an array with ndim > 0 to a scalar is deprecated, and will error in future. Ensure you extract a single element from your array before performing this operation. (Deprecated NumPy 1.25.)\n",
      "  y[n] += b[j] * s_in[n - j]  # Add feedforward terms\n"
     ]
    },
    {
     "name": "stdout",
     "output_type": "stream",
     "text": [
      "Now in record 214\n"
     ]
    },
    {
     "name": "stderr",
     "output_type": "stream",
     "text": [
      "C:\\Users\\AD\\AppData\\Local\\Temp\\ipykernel_3988\\1434268807.py:56: DeprecationWarning: Conversion of an array with ndim > 0 to a scalar is deprecated, and will error in future. Ensure you extract a single element from your array before performing this operation. (Deprecated NumPy 1.25.)\n",
      "  y[n] += b[j] * s_in[n - j]  # Add feedforward terms\n"
     ]
    },
    {
     "name": "stdout",
     "output_type": "stream",
     "text": [
      "Now in record 217\n"
     ]
    },
    {
     "name": "stderr",
     "output_type": "stream",
     "text": [
      "C:\\Users\\AD\\AppData\\Local\\Temp\\ipykernel_3988\\1434268807.py:56: DeprecationWarning: Conversion of an array with ndim > 0 to a scalar is deprecated, and will error in future. Ensure you extract a single element from your array before performing this operation. (Deprecated NumPy 1.25.)\n",
      "  y[n] += b[j] * s_in[n - j]  # Add feedforward terms\n"
     ]
    },
    {
     "name": "stdout",
     "output_type": "stream",
     "text": [
      "Now in record 219\n"
     ]
    },
    {
     "name": "stderr",
     "output_type": "stream",
     "text": [
      "C:\\Users\\AD\\AppData\\Local\\Temp\\ipykernel_3988\\1434268807.py:56: DeprecationWarning: Conversion of an array with ndim > 0 to a scalar is deprecated, and will error in future. Ensure you extract a single element from your array before performing this operation. (Deprecated NumPy 1.25.)\n",
      "  y[n] += b[j] * s_in[n - j]  # Add feedforward terms\n"
     ]
    },
    {
     "name": "stdout",
     "output_type": "stream",
     "text": [
      "Now in record 221\n"
     ]
    },
    {
     "name": "stderr",
     "output_type": "stream",
     "text": [
      "C:\\Users\\AD\\AppData\\Local\\Temp\\ipykernel_3988\\1434268807.py:56: DeprecationWarning: Conversion of an array with ndim > 0 to a scalar is deprecated, and will error in future. Ensure you extract a single element from your array before performing this operation. (Deprecated NumPy 1.25.)\n",
      "  y[n] += b[j] * s_in[n - j]  # Add feedforward terms\n"
     ]
    },
    {
     "name": "stdout",
     "output_type": "stream",
     "text": [
      "Now in record 222\n"
     ]
    },
    {
     "name": "stderr",
     "output_type": "stream",
     "text": [
      "C:\\Users\\AD\\AppData\\Local\\Temp\\ipykernel_3988\\1434268807.py:56: DeprecationWarning: Conversion of an array with ndim > 0 to a scalar is deprecated, and will error in future. Ensure you extract a single element from your array before performing this operation. (Deprecated NumPy 1.25.)\n",
      "  y[n] += b[j] * s_in[n - j]  # Add feedforward terms\n"
     ]
    },
    {
     "name": "stdout",
     "output_type": "stream",
     "text": [
      "Now in record 228\n"
     ]
    },
    {
     "name": "stderr",
     "output_type": "stream",
     "text": [
      "C:\\Users\\AD\\AppData\\Local\\Temp\\ipykernel_3988\\1434268807.py:56: DeprecationWarning: Conversion of an array with ndim > 0 to a scalar is deprecated, and will error in future. Ensure you extract a single element from your array before performing this operation. (Deprecated NumPy 1.25.)\n",
      "  y[n] += b[j] * s_in[n - j]  # Add feedforward terms\n"
     ]
    },
    {
     "name": "stdout",
     "output_type": "stream",
     "text": [
      "Now in record 231\n"
     ]
    },
    {
     "name": "stderr",
     "output_type": "stream",
     "text": [
      "C:\\Users\\AD\\AppData\\Local\\Temp\\ipykernel_3988\\1434268807.py:56: DeprecationWarning: Conversion of an array with ndim > 0 to a scalar is deprecated, and will error in future. Ensure you extract a single element from your array before performing this operation. (Deprecated NumPy 1.25.)\n",
      "  y[n] += b[j] * s_in[n - j]  # Add feedforward terms\n"
     ]
    },
    {
     "name": "stdout",
     "output_type": "stream",
     "text": [
      "Now in record 232\n"
     ]
    },
    {
     "name": "stderr",
     "output_type": "stream",
     "text": [
      "C:\\Users\\AD\\AppData\\Local\\Temp\\ipykernel_3988\\1434268807.py:56: DeprecationWarning: Conversion of an array with ndim > 0 to a scalar is deprecated, and will error in future. Ensure you extract a single element from your array before performing this operation. (Deprecated NumPy 1.25.)\n",
      "  y[n] += b[j] * s_in[n - j]  # Add feedforward terms\n"
     ]
    },
    {
     "name": "stdout",
     "output_type": "stream",
     "text": [
      "Now in record 233\n"
     ]
    },
    {
     "name": "stderr",
     "output_type": "stream",
     "text": [
      "C:\\Users\\AD\\AppData\\Local\\Temp\\ipykernel_3988\\1434268807.py:56: DeprecationWarning: Conversion of an array with ndim > 0 to a scalar is deprecated, and will error in future. Ensure you extract a single element from your array before performing this operation. (Deprecated NumPy 1.25.)\n",
      "  y[n] += b[j] * s_in[n - j]  # Add feedforward terms\n"
     ]
    },
    {
     "name": "stdout",
     "output_type": "stream",
     "text": [
      "Now in record 234\n"
     ]
    },
    {
     "name": "stderr",
     "output_type": "stream",
     "text": [
      "C:\\Users\\AD\\AppData\\Local\\Temp\\ipykernel_3988\\1434268807.py:56: DeprecationWarning: Conversion of an array with ndim > 0 to a scalar is deprecated, and will error in future. Ensure you extract a single element from your array before performing this operation. (Deprecated NumPy 1.25.)\n",
      "  y[n] += b[j] * s_in[n - j]  # Add feedforward terms\n"
     ]
    },
    {
     "name": "stdout",
     "output_type": "stream",
     "text": [
      "done\n",
      "161865\n",
      "161865\n",
      "159117\n",
      "159117\n"
     ]
    }
   ],
   "source": [
    "data_dir = r'./Data_00/'\n",
    "train_dir = data_dir + r'/Train/'\n",
    "test_dir = data_dir + r'/Test/'\n",
    "PrepareFiles(train_records,train_dir)\n",
    "PrepareFiles(test_records,test_dir)\n",
    "\n",
    "ClusteringBeatsInFiles(train_dir+'mitdbAllBeats.txt' , train_dir+'mitdbAllAnnotationsSymbols.txt',train_dir)\n",
    "ClusteringBeatsInFiles(test_dir+'mitdbAllBeats.txt' , test_dir+'mitdbAllAnnotationsSymbols.txt',test_dir)"
   ]
  },
  {
   "cell_type": "code",
   "execution_count": 153,
   "metadata": {
    "executionInfo": {
     "elapsed": 16,
     "status": "ok",
     "timestamp": 1741358108468,
     "user": {
      "displayName": "Thành Trương Minh",
      "userId": "15206623473024326441"
     },
     "user_tz": -420
    },
    "id": "vDAvPq2Li11J"
   },
   "outputs": [],
   "source": [
    "# ============================================================\n",
    "# Function: One_Hot_Encoded_Y\n",
    "# Description:\n",
    "#   Creates a one-hot encoded label array for a given class.\n",
    "#\n",
    "# Parameters:\n",
    "#   classNumber : int\n",
    "#       The zero-based index of the class (e.g., 0 for 'N', 1 for 'L', etc.)\n",
    "#   NumberOfClasses : int\n",
    "#       Total number of classes (e.g., 6 for ECG classification)\n",
    "#   NumberOfSamples : int\n",
    "#       Number of samples in this class\n",
    "#\n",
    "# Returns:\n",
    "#   Y : ndarray\n",
    "#       One-hot encoded label array of shape (NumberOfSamples, NumberOfClasses)\n",
    "# ============================================================\n",
    "def One_Hot_Encoded_Y(classNumber, NumberOfClasses, NumberOfSamples):\n",
    "    if NumberOfSamples == 0:\n",
    "        return np.empty((0, NumberOfClasses))\n",
    "    Yi = np.zeros(NumberOfClasses)\n",
    "    Yi[classNumber] = 1\n",
    "    Y = np.vstack([Yi] * NumberOfSamples)\n",
    "    return Y\n",
    "\n",
    "# ============================================================\n",
    "# Function: ReadClassData\n",
    "# Description:\n",
    "#   Reads data from a .txt file and returns X (features) and Y (labels)\n",
    "#   where X is the signal samples and Y is one-hot encoded label.\n",
    "#\n",
    "# Parameters:\n",
    "#   path : str\n",
    "#       Path to the .txt file containing beat data (one beat per line)\n",
    "#   ZeroBased_classNumber : int\n",
    "#       The class index used for one-hot encoding\n",
    "#   NumOfClasses : int\n",
    "#       Total number of target classes\n",
    "#\n",
    "# Returns:\n",
    "#   X : ndarray\n",
    "#       Input features of shape (num_samples, num_timesteps)\n",
    "#   Y : ndarray\n",
    "#       One-hot encoded labels of shape (num_samples, NumOfClasses)\n",
    "# ============================================================\n",
    "def ReadClassData(path, ZeroBased_classNumber, NumOfClasses):\n",
    "    with open(path, \"r\") as f:\n",
    "        Data = f.readlines()\n",
    "\n",
    "    X = []\n",
    "    for i, line in enumerate(Data):\n",
    "        row = line.strip().split('|')  # Remove \\n and split by '|'\n",
    "        if '' in row:\n",
    "            row.remove('')  # Remove empty string at end (due to trailing '|')\n",
    "        try:\n",
    "            row = list(map(float, row))\n",
    "            X.append(row)\n",
    "        except ValueError:\n",
    "            print(f\"Skipped invalid line {i}: {line[:50]}\")\n",
    "\n",
    "    # Filter only rows with correct length (optional, e.g., 300 points)\n",
    "    expected_len = len(X[0]) if len(X) > 0 else 0\n",
    "    X = [r for r in X if len(r) == expected_len]\n",
    "\n",
    "    X = np.array(X)\n",
    "    if X.shape[0] == 0:\n",
    "        X = np.empty((0, expected_len))  # Return empty but shaped\n",
    "\n",
    "    Y = One_Hot_Encoded_Y(ZeroBased_classNumber, NumOfClasses, X.shape[0])\n",
    "    return X, Y\n",
    "\n",
    "# ============================================================\n",
    "# Function: Prepare_Category\n",
    "# Description:\n",
    "#   Combines training and testing data for a given class and creates\n",
    "#   the corresponding one-hot encoded labels.\n",
    "#\n",
    "# Parameters:\n",
    "#   ClassesTrainData : list of arrays\n",
    "#       List of training data arrays per class\n",
    "#   ClassesTestData : list of arrays\n",
    "#       List of test data arrays per class\n",
    "#   classNumber : int\n",
    "#       The class index for one-hot encoding\n",
    "#   NumberOfCategories : int\n",
    "#       Total number of classes\n",
    "#   MultiClassCategory : bool\n",
    "#       Whether to perform multi-class classification (default: True)\n",
    "#\n",
    "# Returns:\n",
    "#   Ncat_X_train : ndarray\n",
    "#   Ncat_X_test : ndarray\n",
    "#   Ncat_Y_train : ndarray\n",
    "#   Ncat_Y_test : ndarray\n",
    "# ============================================================\n",
    "def Prepare_Category(ClassesTrainData, ClassesTestData, classNumber, NumberOfCategories, MultiClassCategory=True):\n",
    "    if MultiClassCategory:\n",
    "        Ncat_X_train = np.concatenate(ClassesTrainData, axis=0)\n",
    "        Ncat_X_test = np.concatenate(ClassesTestData, axis=0)\n",
    "    else:\n",
    "        print('category of one class')\n",
    "        Ncat_X_train = ClassesTrainData\n",
    "        Ncat_X_test = ClassesTestData\n",
    "\n",
    "    Ncat_Y_train = One_Hot_Encoded_Y(classNumber, NumberOfCategories, Ncat_X_train.shape[0])\n",
    "    Ncat_Y_test = One_Hot_Encoded_Y(classNumber, NumberOfCategories, Ncat_X_test.shape[0])\n",
    "\n",
    "    # Optional: shuffle data if needed\n",
    "    # from sklearn.utils import shuffle\n",
    "    # Ncat_X_train, Ncat_Y_train = shuffle(Ncat_X_train, Ncat_Y_train)\n",
    "    # Ncat_X_test, Ncat_Y_test = shuffle(Ncat_X_test, Ncat_Y_test)\n",
    "\n",
    "    return Ncat_X_train, Ncat_X_test, Ncat_Y_train, Ncat_Y_test\n",
    "\n",
    "# ============================================================\n",
    "# Function: Model_Y\n",
    "# Description:\n",
    "#   Builds a complete Y label array for all classes based on how many\n",
    "#   samples each class has. This is useful when combining class-wise data.\n",
    "#\n",
    "# Parameters:\n",
    "#   NumberOfSamplesEachClass : list of int\n",
    "#       Number of samples in each class, indexed by class\n",
    "#\n",
    "# Returns:\n",
    "#   Y : ndarray\n",
    "#       Combined one-hot encoded label array for all samples\n",
    "# ============================================================\n",
    "def Model_Y(NumberOfSamplesEachClass=[]):\n",
    "    NumberOfClasses = len(NumberOfSamplesEachClass)\n",
    "    Ys = []\n",
    "    for i in range(NumberOfClasses):\n",
    "        Ys.append(One_Hot_Encoded_Y(i, NumberOfClasses, NumberOfSamplesEachClass[i]))\n",
    "    Y = np.concatenate(tuple(Ys), axis=0)\n",
    "    return Y"
   ]
  },
  {
   "cell_type": "markdown",
   "metadata": {},
   "source": [
    "### LOAD DATA IN TEXT FILES FOR TRAIN MODEL"
   ]
  },
  {
   "cell_type": "code",
   "execution_count": 154,
   "metadata": {
    "executionInfo": {
     "elapsed": 23088,
     "status": "ok",
     "timestamp": 1741358131559,
     "user": {
      "displayName": "Thành Trương Minh",
      "userId": "15206623473024326441"
     },
     "user_tz": -420
    },
    "id": "R1naR9qRi13C"
   },
   "outputs": [],
   "source": [
    "files = {'N':'Normal',\n",
    "          'L':'Left_bundle_branch_block',\n",
    "          'R':'Right_bundle_branch_block',\n",
    "          'A':'Atrial_premature',\n",
    "          'V':'Premature_ventricular_contraction',\n",
    "          '/':'Paced'}\n",
    "directory_train   = './Data_00/Train/'\n",
    "directory_test    = './Data_00/Test/'\n",
    "\n",
    "shuff = True\n",
    "NumOfClasses = 6\n",
    "\n",
    "path = directory_train + files['N'] + '.txt'\n",
    "XN_train , YN_train = ReadClassData(path,0,NumOfClasses)\n",
    "path = directory_test + files['N'] + '.txt'\n",
    "XN_test , YN_test = ReadClassData(path,0,NumOfClasses)\n",
    "\n",
    "\n",
    "path = directory_train + files['L'] + '.txt'\n",
    "XL_train , YL_train = ReadClassData(path,1,NumOfClasses)\n",
    "path = directory_test + files['L'] + '.txt'\n",
    "XL_test , YL_test = ReadClassData(path,1,NumOfClasses)\n",
    "\n",
    "\n",
    "path = directory_train + files['R'] + '.txt'\n",
    "XR_train , YR_train = ReadClassData(path,2,NumOfClasses)\n",
    "path = directory_test + files['R'] + '.txt'\n",
    "XR_test , YR_test = ReadClassData(path,2,NumOfClasses)\n",
    "\n",
    "path = directory_train + files['A'] + '.txt'\n",
    "XA_train , YA_train = ReadClassData(path,3,NumOfClasses)\n",
    "path = directory_test + files['A'] + '.txt'\n",
    "XA_test , YA_test = ReadClassData(path,3,NumOfClasses)\n",
    "\n",
    "\n",
    "path = directory_train + files['V'] + '.txt'\n",
    "XV_train , YV_train = ReadClassData(path,4,NumOfClasses)\n",
    "path = directory_test + files['V'] + '.txt'\n",
    "XV_test , YV_test = ReadClassData(path,4,NumOfClasses)\n",
    "\n",
    "\n",
    "path = directory_train + files['/'] + '.txt'\n",
    "XP_train , YP_train = ReadClassData(path,5,NumOfClasses)\n",
    "path = directory_test + files['/'] + '.txt'\n",
    "XP_test , YP_test = ReadClassData(path,5,NumOfClasses)"
   ]
  },
  {
   "cell_type": "code",
   "execution_count": 155,
   "metadata": {
    "executionInfo": {
     "elapsed": 899,
     "status": "ok",
     "timestamp": 1741358132457,
     "user": {
      "displayName": "Thành Trương Minh",
      "userId": "15206623473024326441"
     },
     "user_tz": -420
    },
    "id": "46s-Va4g8fyE"
   },
   "outputs": [],
   "source": [
    "X_TRAIN= np.concatenate((XA_train,XL_train,XN_train,XR_train,XV_train,XP_train), axis=0)\n",
    "Y_TRAIN= np.concatenate((YA_train,YL_train,YN_train,YR_train,YV_train,YP_train), axis=0)\n",
    "\n",
    "X_TEST= np.concatenate((XA_test,XL_test,XN_test,XR_test,XV_test,XP_test), axis=0)\n",
    "Y_TEST= np.concatenate((YA_test,YL_test,YN_test,YR_test,YV_test,YP_test), axis=0)\n",
    "\n",
    "X_train , Y_train = shuffle(X_TRAIN , Y_TRAIN)\n",
    "X_test,Y_test = shuffle( X_TEST,Y_TEST)\n",
    "X_train = np.expand_dims(X_train,axis=-1)\n",
    "X_test = np.expand_dims(X_test,axis=-1)"
   ]
  },
  {
   "cell_type": "code",
   "execution_count": null,
   "metadata": {},
   "outputs": [
    {
     "name": "stdout",
     "output_type": "stream",
     "text": [
      "X_train: (53955, 24, 1)\n",
      "Y_train: (53955, 6)\n"
     ]
    }
   ],
   "source": [
    "print(\"X_train:\", X_train.shape)\n",
    "print(\"Y_train:\", Y_train.shape)"
   ]
  },
  {
   "cell_type": "code",
   "execution_count": 139,
   "metadata": {},
   "outputs": [],
   "source": [
    "from sklearn.utils import class_weight\n",
    "# Convert one-hot Y_train to class indices\n",
    "y_train_labels = np.argmax(Y_train, axis=1)\n",
    "\n",
    "# Compute balanced class weights\n",
    "class_weights = class_weight.compute_class_weight(\n",
    "    class_weight='balanced',\n",
    "    classes=np.unique(y_train_labels),\n",
    "    y=y_train_labels\n",
    ")\n",
    "class_weights = dict(enumerate(class_weights))"
   ]
  },
  {
   "cell_type": "markdown",
   "metadata": {},
   "source": [
    "### MODEL ARCHITECTURE"
   ]
  },
  {
   "cell_type": "code",
   "execution_count": 143,
   "metadata": {
    "executionInfo": {
     "elapsed": 4,
     "status": "ok",
     "timestamp": 1741358132464,
     "user": {
      "displayName": "Thành Trương Minh",
      "userId": "15206623473024326441"
     },
     "user_tz": -420
    },
    "id": "VzOAXb9R9zWr"
   },
   "outputs": [],
   "source": [
    "# ============================================================\n",
    "# Function: ECG_MODEL\n",
    "# Description:\n",
    "#   Defines a 1D CNN model for ECG beat classification.\n",
    "#   Based on lightweight architecture for potential VLSI implementation.\n",
    "#\n",
    "# Parameters:\n",
    "#   nclass : int\n",
    "#       Number of output classes (default is 6 for MIT-BIH ECG beats)\n",
    "#\n",
    "# Returns:\n",
    "#   model : keras.Model\n",
    "#       Compiled Keras model ready for training\n",
    "# ============================================================\n",
    "def ECG_MODEL(nclass=6):\n",
    "    # Input shape: (300, 1) → 300 time steps, 1 channel\n",
    "    inp = Input(shape=(300, 1))  # Input: ECG beat with 300 points\n",
    "\n",
    "    # First convolutional layer: 3 filters, kernel size 7\n",
    "    lay = Conv1D(3, kernel_size=7, activation='relu', padding=\"same\")(inp)  # Output: (300, 3)\n",
    "\n",
    "    # Downsampling: halve the temporal resolution → (150, 3)\n",
    "    lay = MaxPooling1D(pool_size=2)(lay)\n",
    "\n",
    "    # 1×1 convolution: reduce dimensionality / reweight features → (150, 1)\n",
    "    lay = Conv1D(1, kernel_size=1, activation='relu', padding=\"same\")(lay)\n",
    "\n",
    "    # Second convolution layer: extract deeper features → (150, 3)\n",
    "    lay = Conv1D(3, kernel_size=7, activation='relu', padding=\"same\")(lay)\n",
    "\n",
    "    # Further downsampling: reduce temporal length → (50, 3)\n",
    "    lay = MaxPooling1D(pool_size=3)(lay)\n",
    "\n",
    "    # Flatten into 1D vector: 50 × 3 = 150\n",
    "    flat = Flatten()(lay)\n",
    "\n",
    "    # Fully connected layer: 21 neurons (from paper)\n",
    "    dense_1 = Dense(21, activation='relu')(flat)\n",
    "\n",
    "    # Output layer: softmax across 6 classes\n",
    "    dense_2 = Dense(nclass, activation='softmax')(dense_1)\n",
    "\n",
    "    # Build and compile the model\n",
    "    model = Model(inputs=inp, outputs=dense_2)\n",
    "    model.compile(\n",
    "        optimizer=Adam(learning_rate=0.0001),\n",
    "        loss=CategoricalCrossentropy(),\n",
    "        metrics=['acc']\n",
    "    )\n",
    "\n",
    "    model.summary()\n",
    "    return model\n"
   ]
  },
  {
   "cell_type": "code",
   "execution_count": 144,
   "metadata": {
    "colab": {
     "base_uri": "https://localhost:8080/",
     "height": 374
    },
    "executionInfo": {
     "elapsed": 199,
     "status": "ok",
     "timestamp": 1741358132665,
     "user": {
      "displayName": "Thành Trương Minh",
      "userId": "15206623473024326441"
     },
     "user_tz": -420
    },
    "id": "vmZgnwJH9zZJ",
    "outputId": "c562c5fa-894a-4a1d-96b2-50d90380ff17"
   },
   "outputs": [
    {
     "data": {
      "text/html": [
       "<pre style=\"white-space:pre;overflow-x:auto;line-height:normal;font-family:Menlo,'DejaVu Sans Mono',consolas,'Courier New',monospace\"><span style=\"font-weight: bold\">Model: \"functional_17\"</span>\n",
       "</pre>\n"
      ],
      "text/plain": [
       "\u001b[1mModel: \"functional_17\"\u001b[0m\n"
      ]
     },
     "metadata": {},
     "output_type": "display_data"
    },
    {
     "data": {
      "text/html": [
       "<pre style=\"white-space:pre;overflow-x:auto;line-height:normal;font-family:Menlo,'DejaVu Sans Mono',consolas,'Courier New',monospace\">┏━━━━━━━━━━━━━━━━━━━━━━━━━━━━━━━━━┳━━━━━━━━━━━━━━━━━━━━━━━━┳━━━━━━━━━━━━━━━┓\n",
       "┃<span style=\"font-weight: bold\"> Layer (type)                    </span>┃<span style=\"font-weight: bold\"> Output Shape           </span>┃<span style=\"font-weight: bold\">       Param # </span>┃\n",
       "┡━━━━━━━━━━━━━━━━━━━━━━━━━━━━━━━━━╇━━━━━━━━━━━━━━━━━━━━━━━━╇━━━━━━━━━━━━━━━┩\n",
       "│ input_layer_17 (<span style=\"color: #0087ff; text-decoration-color: #0087ff\">InputLayer</span>)     │ (<span style=\"color: #00d7ff; text-decoration-color: #00d7ff\">None</span>, <span style=\"color: #00af00; text-decoration-color: #00af00\">300</span>, <span style=\"color: #00af00; text-decoration-color: #00af00\">1</span>)         │             <span style=\"color: #00af00; text-decoration-color: #00af00\">0</span> │\n",
       "├─────────────────────────────────┼────────────────────────┼───────────────┤\n",
       "│ conv1d_51 (<span style=\"color: #0087ff; text-decoration-color: #0087ff\">Conv1D</span>)              │ (<span style=\"color: #00d7ff; text-decoration-color: #00d7ff\">None</span>, <span style=\"color: #00af00; text-decoration-color: #00af00\">300</span>, <span style=\"color: #00af00; text-decoration-color: #00af00\">3</span>)         │            <span style=\"color: #00af00; text-decoration-color: #00af00\">24</span> │\n",
       "├─────────────────────────────────┼────────────────────────┼───────────────┤\n",
       "│ max_pooling1d_34 (<span style=\"color: #0087ff; text-decoration-color: #0087ff\">MaxPooling1D</span>) │ (<span style=\"color: #00d7ff; text-decoration-color: #00d7ff\">None</span>, <span style=\"color: #00af00; text-decoration-color: #00af00\">150</span>, <span style=\"color: #00af00; text-decoration-color: #00af00\">3</span>)         │             <span style=\"color: #00af00; text-decoration-color: #00af00\">0</span> │\n",
       "├─────────────────────────────────┼────────────────────────┼───────────────┤\n",
       "│ conv1d_52 (<span style=\"color: #0087ff; text-decoration-color: #0087ff\">Conv1D</span>)              │ (<span style=\"color: #00d7ff; text-decoration-color: #00d7ff\">None</span>, <span style=\"color: #00af00; text-decoration-color: #00af00\">150</span>, <span style=\"color: #00af00; text-decoration-color: #00af00\">1</span>)         │             <span style=\"color: #00af00; text-decoration-color: #00af00\">4</span> │\n",
       "├─────────────────────────────────┼────────────────────────┼───────────────┤\n",
       "│ conv1d_53 (<span style=\"color: #0087ff; text-decoration-color: #0087ff\">Conv1D</span>)              │ (<span style=\"color: #00d7ff; text-decoration-color: #00d7ff\">None</span>, <span style=\"color: #00af00; text-decoration-color: #00af00\">150</span>, <span style=\"color: #00af00; text-decoration-color: #00af00\">3</span>)         │            <span style=\"color: #00af00; text-decoration-color: #00af00\">24</span> │\n",
       "├─────────────────────────────────┼────────────────────────┼───────────────┤\n",
       "│ max_pooling1d_35 (<span style=\"color: #0087ff; text-decoration-color: #0087ff\">MaxPooling1D</span>) │ (<span style=\"color: #00d7ff; text-decoration-color: #00d7ff\">None</span>, <span style=\"color: #00af00; text-decoration-color: #00af00\">50</span>, <span style=\"color: #00af00; text-decoration-color: #00af00\">3</span>)          │             <span style=\"color: #00af00; text-decoration-color: #00af00\">0</span> │\n",
       "├─────────────────────────────────┼────────────────────────┼───────────────┤\n",
       "│ flatten_17 (<span style=\"color: #0087ff; text-decoration-color: #0087ff\">Flatten</span>)            │ (<span style=\"color: #00d7ff; text-decoration-color: #00d7ff\">None</span>, <span style=\"color: #00af00; text-decoration-color: #00af00\">150</span>)            │             <span style=\"color: #00af00; text-decoration-color: #00af00\">0</span> │\n",
       "├─────────────────────────────────┼────────────────────────┼───────────────┤\n",
       "│ dense_34 (<span style=\"color: #0087ff; text-decoration-color: #0087ff\">Dense</span>)                │ (<span style=\"color: #00d7ff; text-decoration-color: #00d7ff\">None</span>, <span style=\"color: #00af00; text-decoration-color: #00af00\">21</span>)             │         <span style=\"color: #00af00; text-decoration-color: #00af00\">3,171</span> │\n",
       "├─────────────────────────────────┼────────────────────────┼───────────────┤\n",
       "│ dense_35 (<span style=\"color: #0087ff; text-decoration-color: #0087ff\">Dense</span>)                │ (<span style=\"color: #00d7ff; text-decoration-color: #00d7ff\">None</span>, <span style=\"color: #00af00; text-decoration-color: #00af00\">6</span>)              │           <span style=\"color: #00af00; text-decoration-color: #00af00\">132</span> │\n",
       "└─────────────────────────────────┴────────────────────────┴───────────────┘\n",
       "</pre>\n"
      ],
      "text/plain": [
       "┏━━━━━━━━━━━━━━━━━━━━━━━━━━━━━━━━━┳━━━━━━━━━━━━━━━━━━━━━━━━┳━━━━━━━━━━━━━━━┓\n",
       "┃\u001b[1m \u001b[0m\u001b[1mLayer (type)                   \u001b[0m\u001b[1m \u001b[0m┃\u001b[1m \u001b[0m\u001b[1mOutput Shape          \u001b[0m\u001b[1m \u001b[0m┃\u001b[1m \u001b[0m\u001b[1m      Param #\u001b[0m\u001b[1m \u001b[0m┃\n",
       "┡━━━━━━━━━━━━━━━━━━━━━━━━━━━━━━━━━╇━━━━━━━━━━━━━━━━━━━━━━━━╇━━━━━━━━━━━━━━━┩\n",
       "│ input_layer_17 (\u001b[38;5;33mInputLayer\u001b[0m)     │ (\u001b[38;5;45mNone\u001b[0m, \u001b[38;5;34m300\u001b[0m, \u001b[38;5;34m1\u001b[0m)         │             \u001b[38;5;34m0\u001b[0m │\n",
       "├─────────────────────────────────┼────────────────────────┼───────────────┤\n",
       "│ conv1d_51 (\u001b[38;5;33mConv1D\u001b[0m)              │ (\u001b[38;5;45mNone\u001b[0m, \u001b[38;5;34m300\u001b[0m, \u001b[38;5;34m3\u001b[0m)         │            \u001b[38;5;34m24\u001b[0m │\n",
       "├─────────────────────────────────┼────────────────────────┼───────────────┤\n",
       "│ max_pooling1d_34 (\u001b[38;5;33mMaxPooling1D\u001b[0m) │ (\u001b[38;5;45mNone\u001b[0m, \u001b[38;5;34m150\u001b[0m, \u001b[38;5;34m3\u001b[0m)         │             \u001b[38;5;34m0\u001b[0m │\n",
       "├─────────────────────────────────┼────────────────────────┼───────────────┤\n",
       "│ conv1d_52 (\u001b[38;5;33mConv1D\u001b[0m)              │ (\u001b[38;5;45mNone\u001b[0m, \u001b[38;5;34m150\u001b[0m, \u001b[38;5;34m1\u001b[0m)         │             \u001b[38;5;34m4\u001b[0m │\n",
       "├─────────────────────────────────┼────────────────────────┼───────────────┤\n",
       "│ conv1d_53 (\u001b[38;5;33mConv1D\u001b[0m)              │ (\u001b[38;5;45mNone\u001b[0m, \u001b[38;5;34m150\u001b[0m, \u001b[38;5;34m3\u001b[0m)         │            \u001b[38;5;34m24\u001b[0m │\n",
       "├─────────────────────────────────┼────────────────────────┼───────────────┤\n",
       "│ max_pooling1d_35 (\u001b[38;5;33mMaxPooling1D\u001b[0m) │ (\u001b[38;5;45mNone\u001b[0m, \u001b[38;5;34m50\u001b[0m, \u001b[38;5;34m3\u001b[0m)          │             \u001b[38;5;34m0\u001b[0m │\n",
       "├─────────────────────────────────┼────────────────────────┼───────────────┤\n",
       "│ flatten_17 (\u001b[38;5;33mFlatten\u001b[0m)            │ (\u001b[38;5;45mNone\u001b[0m, \u001b[38;5;34m150\u001b[0m)            │             \u001b[38;5;34m0\u001b[0m │\n",
       "├─────────────────────────────────┼────────────────────────┼───────────────┤\n",
       "│ dense_34 (\u001b[38;5;33mDense\u001b[0m)                │ (\u001b[38;5;45mNone\u001b[0m, \u001b[38;5;34m21\u001b[0m)             │         \u001b[38;5;34m3,171\u001b[0m │\n",
       "├─────────────────────────────────┼────────────────────────┼───────────────┤\n",
       "│ dense_35 (\u001b[38;5;33mDense\u001b[0m)                │ (\u001b[38;5;45mNone\u001b[0m, \u001b[38;5;34m6\u001b[0m)              │           \u001b[38;5;34m132\u001b[0m │\n",
       "└─────────────────────────────────┴────────────────────────┴───────────────┘\n"
      ]
     },
     "metadata": {},
     "output_type": "display_data"
    },
    {
     "data": {
      "text/html": [
       "<pre style=\"white-space:pre;overflow-x:auto;line-height:normal;font-family:Menlo,'DejaVu Sans Mono',consolas,'Courier New',monospace\"><span style=\"font-weight: bold\"> Total params: </span><span style=\"color: #00af00; text-decoration-color: #00af00\">3,355</span> (13.11 KB)\n",
       "</pre>\n"
      ],
      "text/plain": [
       "\u001b[1m Total params: \u001b[0m\u001b[38;5;34m3,355\u001b[0m (13.11 KB)\n"
      ]
     },
     "metadata": {},
     "output_type": "display_data"
    },
    {
     "data": {
      "text/html": [
       "<pre style=\"white-space:pre;overflow-x:auto;line-height:normal;font-family:Menlo,'DejaVu Sans Mono',consolas,'Courier New',monospace\"><span style=\"font-weight: bold\"> Trainable params: </span><span style=\"color: #00af00; text-decoration-color: #00af00\">3,355</span> (13.11 KB)\n",
       "</pre>\n"
      ],
      "text/plain": [
       "\u001b[1m Trainable params: \u001b[0m\u001b[38;5;34m3,355\u001b[0m (13.11 KB)\n"
      ]
     },
     "metadata": {},
     "output_type": "display_data"
    },
    {
     "data": {
      "text/html": [
       "<pre style=\"white-space:pre;overflow-x:auto;line-height:normal;font-family:Menlo,'DejaVu Sans Mono',consolas,'Courier New',monospace\"><span style=\"font-weight: bold\"> Non-trainable params: </span><span style=\"color: #00af00; text-decoration-color: #00af00\">0</span> (0.00 B)\n",
       "</pre>\n"
      ],
      "text/plain": [
       "\u001b[1m Non-trainable params: \u001b[0m\u001b[38;5;34m0\u001b[0m (0.00 B)\n"
      ]
     },
     "metadata": {},
     "output_type": "display_data"
    }
   ],
   "source": [
    "model = ECG_MODEL()"
   ]
  },
  {
   "cell_type": "markdown",
   "metadata": {},
   "source": [
    "### PARAMETERS & TRAIN MODEL"
   ]
  },
  {
   "cell_type": "code",
   "execution_count": 145,
   "metadata": {
    "colab": {
     "background_save": true,
     "base_uri": "https://localhost:8080/"
    },
    "executionInfo": {
     "elapsed": 26473808,
     "status": "ok",
     "timestamp": 1741393347930,
     "user": {
      "displayName": "Thành Trương Minh",
      "userId": "15206623473024326441"
     },
     "user_tz": -420
    },
    "id": "fyQ6HXEe9zbZ"
   },
   "outputs": [
    {
     "name": "stdout",
     "output_type": "stream",
     "text": [
      "Epoch 1/100\n"
     ]
    },
    {
     "ename": "ValueError",
     "evalue": "Input 0 of layer \"functional_17\" is incompatible with the layer: expected shape=(None, 300, 1), found shape=(None, 24)",
     "output_type": "error",
     "traceback": [
      "\u001b[1;31m---------------------------------------------------------------------------\u001b[0m",
      "\u001b[1;31mValueError\u001b[0m                                Traceback (most recent call last)",
      "Cell \u001b[1;32mIn[145], line 11\u001b[0m\n\u001b[0;32m      3\u001b[0m batch_size \u001b[38;5;241m=\u001b[39m \u001b[38;5;241m64\u001b[39m\n\u001b[0;32m      5\u001b[0m \u001b[38;5;66;03m# Train model\u001b[39;00m\n\u001b[0;32m      6\u001b[0m \u001b[38;5;66;03m# history = model.fit(X_train, Y_train,\u001b[39;00m\n\u001b[0;32m      7\u001b[0m \u001b[38;5;66;03m#                     validation_data=(X_test, Y_test),\u001b[39;00m\n\u001b[0;32m      8\u001b[0m \u001b[38;5;66;03m#                     epochs=epochs,\u001b[39;00m\n\u001b[0;32m      9\u001b[0m \u001b[38;5;66;03m#                     batch_size=batch_size,\u001b[39;00m\n\u001b[0;32m     10\u001b[0m \u001b[38;5;66;03m#                     verbose=1)\u001b[39;00m\n\u001b[1;32m---> 11\u001b[0m history \u001b[38;5;241m=\u001b[39m model\u001b[38;5;241m.\u001b[39mfit(X_train, Y_train,\n\u001b[0;32m     12\u001b[0m                     validation_data\u001b[38;5;241m=\u001b[39m(X_test, Y_test),\n\u001b[0;32m     13\u001b[0m                     epochs\u001b[38;5;241m=\u001b[39mepochs,\n\u001b[0;32m     14\u001b[0m                     batch_size\u001b[38;5;241m=\u001b[39mbatch_size,\n\u001b[0;32m     15\u001b[0m                     class_weight\u001b[38;5;241m=\u001b[39mclass_weights,\n\u001b[0;32m     16\u001b[0m                     verbose\u001b[38;5;241m=\u001b[39m\u001b[38;5;241m1\u001b[39m)\n",
      "File \u001b[1;32mc:\\Users\\AD\\anaconda3\\Lib\\site-packages\\keras\\src\\utils\\traceback_utils.py:122\u001b[0m, in \u001b[0;36mfilter_traceback.<locals>.error_handler\u001b[1;34m(*args, **kwargs)\u001b[0m\n\u001b[0;32m    119\u001b[0m     filtered_tb \u001b[38;5;241m=\u001b[39m _process_traceback_frames(e\u001b[38;5;241m.\u001b[39m__traceback__)\n\u001b[0;32m    120\u001b[0m     \u001b[38;5;66;03m# To get the full stack trace, call:\u001b[39;00m\n\u001b[0;32m    121\u001b[0m     \u001b[38;5;66;03m# `keras.config.disable_traceback_filtering()`\u001b[39;00m\n\u001b[1;32m--> 122\u001b[0m     \u001b[38;5;28;01mraise\u001b[39;00m e\u001b[38;5;241m.\u001b[39mwith_traceback(filtered_tb) \u001b[38;5;28;01mfrom\u001b[39;00m \u001b[38;5;28;01mNone\u001b[39;00m\n\u001b[0;32m    123\u001b[0m \u001b[38;5;28;01mfinally\u001b[39;00m:\n\u001b[0;32m    124\u001b[0m     \u001b[38;5;28;01mdel\u001b[39;00m filtered_tb\n",
      "File \u001b[1;32mc:\\Users\\AD\\anaconda3\\Lib\\site-packages\\keras\\src\\layers\\input_spec.py:245\u001b[0m, in \u001b[0;36massert_input_compatibility\u001b[1;34m(input_spec, inputs, layer_name)\u001b[0m\n\u001b[0;32m    243\u001b[0m \u001b[38;5;28;01mif\u001b[39;00m spec_dim \u001b[38;5;129;01mis\u001b[39;00m \u001b[38;5;129;01mnot\u001b[39;00m \u001b[38;5;28;01mNone\u001b[39;00m \u001b[38;5;129;01mand\u001b[39;00m dim \u001b[38;5;129;01mis\u001b[39;00m \u001b[38;5;129;01mnot\u001b[39;00m \u001b[38;5;28;01mNone\u001b[39;00m:\n\u001b[0;32m    244\u001b[0m     \u001b[38;5;28;01mif\u001b[39;00m spec_dim \u001b[38;5;241m!=\u001b[39m dim:\n\u001b[1;32m--> 245\u001b[0m         \u001b[38;5;28;01mraise\u001b[39;00m \u001b[38;5;167;01mValueError\u001b[39;00m(\n\u001b[0;32m    246\u001b[0m             \u001b[38;5;124mf\u001b[39m\u001b[38;5;124m'\u001b[39m\u001b[38;5;124mInput \u001b[39m\u001b[38;5;132;01m{\u001b[39;00minput_index\u001b[38;5;132;01m}\u001b[39;00m\u001b[38;5;124m of layer \u001b[39m\u001b[38;5;124m\"\u001b[39m\u001b[38;5;132;01m{\u001b[39;00mlayer_name\u001b[38;5;132;01m}\u001b[39;00m\u001b[38;5;124m\"\u001b[39m\u001b[38;5;124m is \u001b[39m\u001b[38;5;124m'\u001b[39m\n\u001b[0;32m    247\u001b[0m             \u001b[38;5;124m\"\u001b[39m\u001b[38;5;124mincompatible with the layer: \u001b[39m\u001b[38;5;124m\"\u001b[39m\n\u001b[0;32m    248\u001b[0m             \u001b[38;5;124mf\u001b[39m\u001b[38;5;124m\"\u001b[39m\u001b[38;5;124mexpected shape=\u001b[39m\u001b[38;5;132;01m{\u001b[39;00mspec\u001b[38;5;241m.\u001b[39mshape\u001b[38;5;132;01m}\u001b[39;00m\u001b[38;5;124m, \u001b[39m\u001b[38;5;124m\"\u001b[39m\n\u001b[0;32m    249\u001b[0m             \u001b[38;5;124mf\u001b[39m\u001b[38;5;124m\"\u001b[39m\u001b[38;5;124mfound shape=\u001b[39m\u001b[38;5;132;01m{\u001b[39;00mshape\u001b[38;5;132;01m}\u001b[39;00m\u001b[38;5;124m\"\u001b[39m\n\u001b[0;32m    250\u001b[0m         )\n",
      "\u001b[1;31mValueError\u001b[0m: Input 0 of layer \"functional_17\" is incompatible with the layer: expected shape=(None, 300, 1), found shape=(None, 24)"
     ]
    }
   ],
   "source": [
    "# Parameters\n",
    "epochs = 100\n",
    "batch_size = 64\n",
    "\n",
    "# Train model\n",
    "# history = model.fit(X_train, Y_train,\n",
    "#                     validation_data=(X_test, Y_test),\n",
    "#                     epochs=epochs,\n",
    "#                     batch_size=batch_size,\n",
    "#                     verbose=1)\n",
    "history = model.fit(X_train, Y_train,\n",
    "                    validation_data=(X_test, Y_test),\n",
    "                    epochs=epochs,\n",
    "                    batch_size=batch_size,\n",
    "                    class_weight=class_weights,\n",
    "                    verbose=1)"
   ]
  },
  {
   "cell_type": "markdown",
   "metadata": {},
   "source": [
    "### FUNCTIONS: MODEL EVALUTION"
   ]
  },
  {
   "cell_type": "code",
   "execution_count": 16,
   "metadata": {
    "colab": {
     "background_save": true
    },
    "executionInfo": {
     "elapsed": 5,
     "status": "ok",
     "timestamp": 1741393347999,
     "user": {
      "displayName": "Thành Trương Minh",
      "userId": "15206623473024326441"
     },
     "user_tz": -420
    },
    "id": "s3QX1Ily9zd3"
   },
   "outputs": [],
   "source": [
    "# ============================================================\n",
    "# Function: Build_Confusion_Matrix\n",
    "# Description:\n",
    "#   Constructs a confusion matrix from ground truth and predicted class labels.\n",
    "#\n",
    "# Parameters:\n",
    "#   y_test : array-like\n",
    "#       Ground truth labels (integer class indices)\n",
    "#   y_pred : array-like\n",
    "#       Predicted labels (integer class indices)\n",
    "#   num_of_classes : int\n",
    "#       Number of total classes\n",
    "#\n",
    "# Returns:\n",
    "#   confusion_matrix : ndarray (shape: [num_classes, num_classes])\n",
    "# ============================================================\n",
    "def Build_Confusion_Matrix(y_test, y_pred, num_of_classes):\n",
    "    confusion_matrix = np.zeros((num_of_classes, num_of_classes))\n",
    "    for i in range(len(y_test)):\n",
    "        confusion_matrix[y_test[i], y_pred[i]] += 1\n",
    "    return confusion_matrix\n",
    "\n",
    "# ============================================================\n",
    "# Function: Calculate_Accuracy\n",
    "# Description:\n",
    "#   Calculates per-class accuracy, overall accuracy,\n",
    "#   and average per-class accuracy from confusion matrix.\n",
    "#\n",
    "# Parameters:\n",
    "#   confusion_matrix : ndarray\n",
    "#       Confusion matrix from Build_Confusion_Matrix()\n",
    "#\n",
    "# Returns:\n",
    "#   acc : float\n",
    "#       Overall classification accuracy (%)\n",
    "#   average_accuracy : float\n",
    "#       Mean of class-wise accuracy (%)\n",
    "# ============================================================\n",
    "def Calculate_Accuracy(confusion_matrix):\n",
    "    acc = (np.sum(confusion_matrix.diagonal()) / np.sum(confusion_matrix)) * 100  # Overall accuracy\n",
    "    accuracies = []\n",
    "    for i in range(len(confusion_matrix)):\n",
    "        class_count = confusion_matrix[i, i]\n",
    "        if class_count == 0:\n",
    "            accuracies.append(0)  # If no correct samples for that class\n",
    "        else:\n",
    "            ac = (confusion_matrix[i, i] / np.sum(confusion_matrix[i, :])) * 100\n",
    "            accuracies.append(ac)\n",
    "    print(\"Per-class accuracy (%):\", accuracies)\n",
    "    average_accuracy = np.average(accuracies)\n",
    "    print('Average Accuracy:', average_accuracy)\n",
    "    print('Overall Accuracy:', acc)\n",
    "    return acc, average_accuracy\n",
    "\n",
    "\n",
    "# ============================================================\n",
    "# Function: Evaluate\n",
    "# Description:\n",
    "#   Evaluates prediction results using confusion matrix and accuracy metrics.\n",
    "#\n",
    "# Parameters:\n",
    "#   y_test : array-like\n",
    "#       Ground truth labels\n",
    "#   y_pred : array-like\n",
    "#       Predicted labels\n",
    "#   num_of_classes : int\n",
    "#       Total number of classes\n",
    "#\n",
    "# Returns:\n",
    "#   acc : float\n",
    "#   average_accuracy : float\n",
    "# ============================================================\n",
    "def Evaluate(y_test, y_pred, num_of_classes):\n",
    "    confusion_matrix = Build_Confusion_Matrix(y_test, y_pred, num_of_classes)\n",
    "    confusion_matrix = np.int64(confusion_matrix)  # Ensure it's integer type\n",
    "    print(confusion_matrix)  # Display raw confusion matrix\n",
    "    return Calculate_Accuracy(confusion_matrix)\n",
    "\n",
    "\n",
    "\n",
    "# ============================================================\n",
    "# Function: Predict_and_Evaluate\n",
    "# Description:\n",
    "#   Performs prediction using the model, converts outputs to class indices,\n",
    "#   and evaluates using a confusion matrix.\n",
    "#\n",
    "# Parameters:\n",
    "#   model : keras.Model\n",
    "#       Trained classification model\n",
    "#   X_test : ndarray\n",
    "#       Input features for testing\n",
    "#   Y_test : ndarray\n",
    "#       Ground truth one-hot labels\n",
    "#   NumOfClasses : int\n",
    "#       Total number of output classes\n",
    "#\n",
    "# Returns:\n",
    "#   acc, average_accuracy : float\n",
    "# ============================================================\n",
    "def Predict_and_Evaluate(model, X_test, Y_test, NumOfClasses):\n",
    "    Y_predict = model.predict(X_test)  # Softmax output\n",
    "    inds = np.argmax(Y_test, axis=1)   # Convert one-hot ground truth to class indices\n",
    "    pred = np.argmax(Y_predict, axis=1)  # Convert prediction to class indices\n",
    "    accuracy = np.mean(inds == pred)  # Raw accuracy\n",
    "    print(\"Raw prediction accuracy:\", accuracy)\n",
    "    return Evaluate(inds, pred, NumOfClasses)\n",
    "\n",
    "\n",
    "# ============================================================\n",
    "# Function: Plot_Confusion_Matrix\n",
    "# Description:\n",
    "#   Plots a colored confusion matrix using seaborn heatmap.\n",
    "#\n",
    "# Parameters:\n",
    "#   confusion_matrix : ndarray\n",
    "#       Matrix of shape [n_classes, n_classes]\n",
    "#   class_names : list of str\n",
    "#       Class labels (e.g., ['N', 'L', 'R', 'A', 'V', '/'])\n",
    "# ============================================================\n",
    "def Plot_Confusion_Matrix(confusion_matrix, class_names):\n",
    "    plt.figure(figsize=(10, 7))\n",
    "    sns.heatmap(confusion_matrix, annot=True, fmt=\"d\", cmap=\"Blues\",\n",
    "                xticklabels=class_names, yticklabels=class_names)\n",
    "    plt.xlabel('Predicted')\n",
    "    plt.ylabel('Actual')\n",
    "    plt.title('Confusion Matrix')\n",
    "    plt.show()"
   ]
  },
  {
   "cell_type": "code",
   "execution_count": 110,
   "metadata": {
    "colab": {
     "background_save": true
    },
    "executionInfo": {
     "elapsed": 1,
     "status": "ok",
     "timestamp": 1741393348013,
     "user": {
      "displayName": "Thành Trương Minh",
      "userId": "15206623473024326441"
     },
     "user_tz": -420
    },
    "id": "viF8u1X_CdyI"
   },
   "outputs": [],
   "source": [
    "num_of_classes = 6"
   ]
  },
  {
   "cell_type": "markdown",
   "metadata": {},
   "source": [
    "### RESULTS"
   ]
  },
  {
   "cell_type": "code",
   "execution_count": 120,
   "metadata": {
    "colab": {
     "background_save": true,
     "base_uri": "https://localhost:8080/"
    },
    "id": "b3IIr9gUCd0X"
   },
   "outputs": [
    {
     "name": "stdout",
     "output_type": "stream",
     "text": [
      "\u001b[1m1658/1658\u001b[0m \u001b[32m━━━━━━━━━━━━━━━━━━━━\u001b[0m\u001b[37m\u001b[0m \u001b[1m5s\u001b[0m 3ms/step\n",
      "Raw prediction accuracy: 0.3781179886498614\n",
      "[[16556   249   639  9220  8596  1395]\n",
      " [  939   157    10   664  1875   477]\n",
      " [ 2332     0    11    50   681   398]\n",
      " [  718     1    76    75   723   142]\n",
      " [  174    75   100   418  2594    78]\n",
      " [  187   938    11   334  1484   662]]\n",
      "Per-class accuracy (%): [45.16709862228891, 3.808830664725861, 0.31682027649769584, 4.322766570605188, 75.42890375109043, 18.307522123893804]\n",
      "Average Accuracy: 24.55865700151698\n",
      "Overall Accuracy: 37.81179886498614\n"
     ]
    }
   ],
   "source": [
    "accuracy, avg_accuracy = Predict_and_Evaluate(model, X_test, Y_test, NumOfClasses)"
   ]
  },
  {
   "cell_type": "code",
   "execution_count": 121,
   "metadata": {
    "id": "tFLmaXF9Cd39"
   },
   "outputs": [
    {
     "name": "stdout",
     "output_type": "stream",
     "text": [
      "\u001b[1m1658/1658\u001b[0m \u001b[32m━━━━━━━━━━━━━━━━━━━━\u001b[0m\u001b[37m\u001b[0m \u001b[1m4s\u001b[0m 2ms/step\n"
     ]
    }
   ],
   "source": [
    "Y_predict = model.predict(X_test)\n",
    "y_pred = np.argmax(Y_predict, axis=1)\n",
    "y_test = np.argmax(Y_test, axis=1)"
   ]
  },
  {
   "cell_type": "code",
   "execution_count": 122,
   "metadata": {
    "id": "sUfafKRSGSA6"
   },
   "outputs": [],
   "source": [
    "conf_matrix = Build_Confusion_Matrix(y_test, y_pred, NumOfClasses)"
   ]
  },
  {
   "cell_type": "code",
   "execution_count": 123,
   "metadata": {
    "id": "jX2-xRfGGSDb"
   },
   "outputs": [
    {
     "data": {
      "image/png": "[encoded data removed]",
      "text/plain": [
       "<Figure size 800x600 with 2 Axes>"
      ]
     },
     "metadata": {},
     "output_type": "display_data"
    }
   ],
   "source": [
    "plt.figure(figsize=(8, 6))\n",
    "sns.heatmap(conf_matrix, annot=True, fmt=\".0f\", cmap=\"Blues\", xticklabels=range(NumOfClasses), yticklabels=range(NumOfClasses))\n",
    "plt.xlabel(\"Predicted Label\")\n",
    "plt.ylabel(\"True Label\")\n",
    "plt.title(\"Confusion Matrix\")\n",
    "plt.savefig(\"./Output_01/confusion_matrix.png\")  # Lưu hình ảnh\n",
    "plt.show()"
   ]
  },
  {
   "cell_type": "code",
   "execution_count": 124,
   "metadata": {
    "id": "akXOJKQrXIy4"
   },
   "outputs": [
    {
     "name": "stdout",
     "output_type": "stream",
     "text": [
      "\u001b[1m1658/1658\u001b[0m \u001b[32m━━━━━━━━━━━━━━━━━━━━\u001b[0m\u001b[37m\u001b[0m \u001b[1m5s\u001b[0m 3ms/step - acc: 0.3805 - loss: 3.3330\n"
     ]
    }
   ],
   "source": [
    "test_loss, test_accuracy = model.evaluate(X_test, Y_test)"
   ]
  },
  {
   "cell_type": "code",
   "execution_count": 125,
   "metadata": {
    "id": "xo268uk0WkKa"
   },
   "outputs": [
    {
     "name": "stderr",
     "output_type": "stream",
     "text": [
      "WARNING:absl:You are saving your model as an HDF5 file via `model.save()` or `keras.saving.save_model(model)`. This file format is considered legacy. We recommend using instead the native Keras format, e.g. `model.save('my_model.keras')` or `keras.saving.save_model(model, 'my_model.keras')`. \n"
     ]
    }
   ],
   "source": [
    "model.save(r\"./Output_01/ecg_model.h5\")\n",
    "\n",
    "np.savez(r\"./Output_01/model_results.npz\",\n",
    "         confusion_matrix=conf_matrix,\n",
    "         accuracy=test_accuracy,\n",
    "         loss=test_loss)\n",
    "\n",
    "with open(r\"./Output_01/model_metrics.pkl\", \"wb\") as f:\n",
    "    pickle.dump({\"confusion_matrix\": conf_matrix, \"accuracy\": test_accuracy, \"loss\": test_loss}, f)\n"
   ]
  },
  {
   "cell_type": "code",
   "execution_count": null,
   "metadata": {},
   "outputs": [],
   "source": []
  }
 ],
 "metadata": {
  "colab": {
   "name": "",
   "version": ""
  },
  "kernelspec": {
   "display_name": "base",
   "language": "python",
   "name": "python3"
  },
  "language_info": {
   "codemirror_mode": {
    "name": "ipython",
    "version": 3
   },
   "file_extension": ".py",
   "mimetype": "text/x-python",
   "name": "python",
   "nbconvert_exporter": "python",
   "pygments_lexer": "ipython3",
   "version": "3.12.7"
  }
 },
 "nbformat": 4,
 "nbformat_minor": 0
}
