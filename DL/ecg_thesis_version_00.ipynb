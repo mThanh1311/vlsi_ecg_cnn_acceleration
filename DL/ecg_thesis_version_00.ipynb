{
 "cells": [
  {
   "cell_type": "code",
   "execution_count": 1,
   "metadata": {
    "executionInfo": {
     "elapsed": 8613,
     "status": "ok",
     "timestamp": 1741357923575,
     "user": {
      "displayName": "Thành Trương Minh",
      "userId": "15206623473024326441"
     },
     "user_tz": -420
    },
    "id": "KiXyKudKwcb3"
   },
   "outputs": [],
   "source": [
    "import os\n",
    "import numpy as np\n",
    "import wfdb\n",
    "import cv2 as cv2\n",
    "from wfdb import processing\n",
    "import pandas as pd\n",
    "import pickle\n",
    "\n",
    "# Visualization\n",
    "import matplotlib.pyplot as plt\n",
    "import seaborn as sns\n",
    "\n",
    "# Signals dsp\n",
    "from scipy.signal import butter, lfilter, iirfilter\n",
    "from IPython.display import display\n",
    "from scipy.signal import freqz\n",
    "from scipy import signal\n",
    "\n",
    "# Sklearn\n",
    "from sklearn.utils import shuffle\n",
    "from sklearn.model_selection import train_test_split\n",
    "\n",
    "# Pytorch\n",
    "import torch\n",
    "\n",
    "# TensorFlow/Keras\n",
    "import tensorflow as tf\n",
    "from tensorflow.keras.models import Model, Sequential\n",
    "from tensorflow.keras.layers import (\n",
    "    Input, Dense, Dropout, Flatten, BatchNormalization, Activation,\n",
    "    Conv1D, MaxPooling1D, GlobalAveragePooling1D, AveragePooling1D,\n",
    "    Conv2D, MaxPooling2D, ZeroPadding2D\n",
    ")\n",
    "from tensorflow.keras.optimizers import Adam\n",
    "from tensorflow.keras.losses import CategoricalCrossentropy\n",
    "from tensorflow.keras.utils import plot_model"
   ]
  },
  {
   "cell_type": "code",
   "execution_count": 2,
   "metadata": {
    "executionInfo": {
     "elapsed": 5,
     "status": "ok",
     "timestamp": 1741357923589,
     "user": {
      "displayName": "Thành Trương Minh",
      "userId": "15206623473024326441"
     },
     "user_tz": -420
    },
    "id": "Cg6sEGGqcSsc"
   },
   "outputs": [],
   "source": [
    "mitdb_path = r\"./Dataset/mitdb\""
   ]
  },
  {
   "cell_type": "code",
   "execution_count": 7,
   "metadata": {
    "executionInfo": {
     "elapsed": 2680,
     "status": "ok",
     "timestamp": 1741357926271,
     "user": {
      "displayName": "Thành Trương Minh",
      "userId": "15206623473024326441"
     },
     "user_tz": -420
    },
    "id": "DIeRagpxxjRb"
   },
   "outputs": [],
   "source": [
    "record = wfdb.rdsamp(mitdb_path + '/124')\n",
    "annotation = wfdb.rdann(mitdb_path+ '/124', 'atr')"
   ]
  },
  {
   "cell_type": "code",
   "execution_count": 4,
   "metadata": {
    "colab": {
     "base_uri": "https://localhost:8080/"
    },
    "executionInfo": {
     "elapsed": 35,
     "status": "ok",
     "timestamp": 1741357926311,
     "user": {
      "displayName": "Thành Trương Minh",
      "userId": "15206623473024326441"
     },
     "user_tz": -420
    },
    "id": "qIzONjLwxjPm",
    "outputId": "5579bf49-064d-4395-f519-38b2ad0dbc0d"
   },
   "outputs": [
    {
     "name": "stdout",
     "output_type": "stream",
     "text": [
      "You already have the data.\n"
     ]
    }
   ],
   "source": [
    "if os.path.isdir(mitdb_path):\n",
    "  print('You already have the data.')"
   ]
  },
  {
   "cell_type": "code",
   "execution_count": 5,
   "metadata": {
    "executionInfo": {
     "elapsed": 203,
     "status": "ok",
     "timestamp": 1741357955939,
     "user": {
      "displayName": "Thành Trương Minh",
      "userId": "15206623473024326441"
     },
     "user_tz": -420
    },
    "id": "kwMTn6ZQjWFe"
   },
   "outputs": [],
   "source": [
    "# def butter_lowpass(cutoff, fs, order=5):\n",
    "#   nyq = 0.5 * fs\n",
    "#   normal_cutoff = cutoff / nyq\n",
    "#   b, a = butter(order, normal_cutoff, btype='low')\n",
    "#   return b, a\n",
    "\n",
    "# def butter_lowpass_filter(data, lowcut, fs, order=5):\n",
    "#   b, a = butter_lowpass(lowcut, fs, order=order)\n",
    "#   y = lfilter(b, a, data, axis=0)\n",
    "#   return y\n",
    "# def normalized_1(sig):\n",
    "#   normalized_sig = (sig - np.min(sig)) / (np.max(sig) - np.min(sig))\n",
    "#   return normalized_sig"
   ]
  },
  {
   "cell_type": "code",
   "execution_count": 6,
   "metadata": {
    "colab": {
     "base_uri": "https://localhost:8080/",
     "height": 563
    },
    "executionInfo": {
     "elapsed": 8123,
     "status": "ok",
     "timestamp": 1741357982117,
     "user": {
      "displayName": "Thành Trương Minh",
      "userId": "15206623473024326441"
     },
     "user_tz": -420
    },
    "id": "8ndztmv1jg68",
    "outputId": "1b8e15b1-47d8-41f1-934b-b21ec50c8a3c"
   },
   "outputs": [],
   "source": [
    "# fig, ax = plt.subplots(nrows=2, ncols=2, figsize=(12,6))\n",
    "# I = record[0][:, 0]\n",
    "# II = record[0][:, 1]\n",
    "\n",
    "\n",
    "# filteredSig_I = butter_lowpass_filter(I, 0.5, 300, 2)\n",
    "# filteredSig_I = normalized_1(filteredSig_I)\n",
    "\n",
    "# filteredSig_II = butter_lowpass_filter(II, 0.5, 300, 2)\n",
    "# filteredSig_II = normalized_1(filteredSig_II)\n",
    "\n",
    "# ax[0, 0].plot(I, label=\"Lead I (Raw)\", color='r')\n",
    "# ax[0, 1].plot(filteredSig_I, label=\"Lead I (Filtered)\", color='g')\n",
    "# ax[1, 0].plot(II, label=\"Lead II (Raw)\", color='b')\n",
    "# ax[1, 1].plot(filteredSig_II, label=\"Lead II (Filtered)\", color='purple')\n",
    "\n",
    "# ax[0, 0].set_ylabel('Lead I')\n",
    "# ax[1, 0].set_ylabel('Lead II')\n",
    "# ax[1, 0].set_xlabel('Datapoints')\n",
    "# ax[1, 1].set_xlabel('Datapoints')\n",
    "\n",
    "# ax[0, 0].legend()\n",
    "# ax[0, 1].legend()\n",
    "# ax[1, 0].legend()\n",
    "# ax[1, 1].legend()"
   ]
  },
  {
   "cell_type": "code",
   "execution_count": 8,
   "metadata": {
    "executionInfo": {
     "elapsed": 4,
     "status": "ok",
     "timestamp": 1741357982130,
     "user": {
      "displayName": "Thành Trương Minh",
      "userId": "15206623473024326441"
     },
     "user_tz": -420
    },
    "id": "vG0B_FwvxjVj"
   },
   "outputs": [],
   "source": [
    "def butter_bandpass(lowcut, highcut, fs, order=5):\n",
    "  nyq = 0.5 * fs\n",
    "  low = lowcut / nyq\n",
    "  high = highcut / nyq\n",
    "  b, a = butter(order,[low, high], btype='bandpass')\n",
    "  return b, a\n",
    "\n",
    "def butter_bandpass_filter(data, lowcut, highcut, fs, order=5):\n",
    "  b, a = butter_bandpass(lowcut, highcut, fs, order=order)\n",
    "  y = lfilter(b, a, data,axis=0)\n",
    "  return y\n",
    "\n",
    "def iir_bandpass(lowcut, highcut, fs, order=5, ftype='butter'):\n",
    "    nyq = 0.5 * fs\n",
    "    low = lowcut / nyq\n",
    "    high = highcut / nyq\n",
    "    b, a = iirfilter(order, [low, high], btype='band', ftype=ftype, fs=fs)\n",
    "    return b, a\n",
    "\n",
    "def iir_bandpass_filter(data, lowcut, highcut, fs, order=5, ftype='butter'):\n",
    "    b, a = iir_bandpass(lowcut, highcut, fs, order, ftype)\n",
    "    y = lfilter(b, a, data, axis=0)\n",
    "    return y\n",
    "\n",
    "def normalized(sig):\n",
    "  normalized_sig = (sig - np.min(sig)) / (np.max(sig) - np.min(sig))\n",
    "  return normalized_sig\n",
    "\n",
    "def DynamicSegmentation(peaksIndecies,signal):\n",
    "  beats = [[]]\n",
    "  beats.remove([])\n",
    "  for i in range(1,len(peaksIndecies)-1):\n",
    "      RRPrev = peaksIndecies[i] - peaksIndecies[i-1]\n",
    "      RRNext = peaksIndecies[i+1] - peaksIndecies[i]\n",
    "      RRMax = max(RRPrev, RRNext)\n",
    "      start = peaksIndecies[i]- int((1/3.0)*RRMax)\n",
    "      end = peaksIndecies[i] + int((2 / 3.0 )* RRMax)\n",
    "      beats.append(signal[start:end])\n",
    "  return beats\n",
    "\n",
    "\n",
    "def resampling(beats,samprate):\n",
    "  resampled = [[]]\n",
    "  resampled.remove([])\n",
    "  for i in beats:\n",
    "      resampled.append(list(signal.resample(i,samprate)))\n",
    "  return resampled"
   ]
  },
  {
   "cell_type": "code",
   "execution_count": null,
   "metadata": {
    "colab": {
     "base_uri": "https://localhost:8080/",
     "height": 563
    },
    "executionInfo": {
     "elapsed": 4758,
     "status": "ok",
     "timestamp": 1741357986891,
     "user": {
      "displayName": "Thành Trương Minh",
      "userId": "15206623473024326441"
     },
     "user_tz": -420
    },
    "id": "DXG1oeyyxjT0",
    "outputId": "431d73c6-c157-4a2b-ca57-3e813dfc6461"
   },
   "outputs": [
    {
     "data": {
      "text/plain": [
       "<matplotlib.legend.Legend at 0x1f781424fe0>"
      ]
     },
     "execution_count": 11,
     "metadata": {},
     "output_type": "execute_result"
    },
    {
     "data": {
      "image/png": "[encoded data removed]",
      "text/plain": [
       "<Figure size 1200x600 with 4 Axes>"
      ]
     },
     "metadata": {},
     "output_type": "display_data"
    }
   ],
   "source": [
    "fig, ax = plt.subplots(nrows=2, ncols=2, figsize=(12,6))\n",
    "I = record[0][:, 0]\n",
    "II = record[0][:, 1]\n",
    "\n",
    "\n",
    "filteredSig_I = iir_bandpass_filter(I, 0.35, 40, 300, 2)\n",
    "filteredSig_I = normalized(filteredSig_I)\n",
    "\n",
    "filteredSig_II = iir_bandpass_filter(II, 0.35, 40, 300, 2)\n",
    "filteredSig_II = normalized(filteredSig_II)\n",
    "\n",
    "ax[0, 0].plot(I, label=\"Lead I (Raw)\", color='r')\n",
    "ax[0, 1].plot(filteredSig_I, label=\"Lead I (Filtered)\", color='g')\n",
    "ax[1, 0].plot(II, label=\"Lead II (Raw)\", color='b')\n",
    "ax[1, 1].plot(filteredSig_II, label=\"Lead II (Filtered)\", color='purple')\n",
    "\n",
    "ax[0, 0].set_ylabel('Lead I')\n",
    "ax[1, 0].set_ylabel('Lead II')\n",
    "ax[1, 0].set_xlabel('Datapoints')\n",
    "ax[1, 1].set_xlabel('Datapoints')\n",
    "\n",
    "ax[0, 0].legend()\n",
    "ax[0, 1].legend()\n",
    "ax[1, 0].legend()\n",
    "ax[1, 1].legend()"
   ]
  },
  {
   "cell_type": "code",
   "execution_count": 29,
   "metadata": {
    "executionInfo": {
     "elapsed": 4,
     "status": "ok",
     "timestamp": 1741357986894,
     "user": {
      "displayName": "Thành Trương Minh",
      "userId": "15206623473024326441"
     },
     "user_tz": -420
    },
    "id": "0XCVtXPNgez7"
   },
   "outputs": [],
   "source": [
    "def PreProcessing(signal,fs = 360, datasetinds = None):\n",
    "\n",
    "  filteredSig = iir_bandpass_filter(signal, 0.35, 40, 360, 2)\n",
    "  filteredSig = normalized(filteredSig)\n",
    "\n",
    "  if datasetinds == None:\n",
    "      qrs_inds = processing.xqrs_detect(sig=filteredSig[:, 0], fs=fs)\n",
    "      beats = DynamicSegmentation(qrs_inds,filteredSig)\n",
    "  else:\n",
    "      beats = DynamicSegmentation(datasetinds,filteredSig)\n",
    "  beats = resampling(beats,24)\n",
    "\n",
    "  return beats"
   ]
  },
  {
   "cell_type": "code",
   "execution_count": 30,
   "metadata": {
    "executionInfo": {
     "elapsed": 4,
     "status": "ok",
     "timestamp": 1741357995210,
     "user": {
      "displayName": "Thành Trương Minh",
      "userId": "15206623473024326441"
     },
     "user_tz": -420
    },
    "id": "iOkL76KLi1vg"
   },
   "outputs": [],
   "source": [
    "def filterAnnotation(annotation):\n",
    "  classes = ['N', 'L', 'R', 'A', 'V', '/']\n",
    "  annotations = []\n",
    "  RPeaksInds = []\n",
    "  for ann in range(len(annotation.symbol)):\n",
    "      if annotation.symbol[ann] in classes:\n",
    "          annotations.append(annotation.symbol[ann])\n",
    "          RPeaksInds.append(annotation.sample[ann])\n",
    "  return annotations,RPeaksInds\n",
    "\n",
    "def AppendBeatsOfSignalToFile(beats,filePath):\n",
    "  if not os.path.exists(filePath):\n",
    "    open(filePath, \"w\").close()\n",
    "\n",
    "  f = open(filePath,\"a\")\n",
    "  for i in range(len(beats)):\n",
    "      for j in range(len(beats[i])):\n",
    "          f.write(str(beats[i][j][0])+'|')\n",
    "      f.write('\\n')\n",
    "  f.close()\n",
    "  return\n",
    "\n",
    "def WriteAnnotationSymbolToFile(annotationSymbol,filepath):\n",
    "  if not os.path.exists(filepath):\n",
    "      open(filepath, \"w\").close()\n",
    "  f = open(filepath,\"a\")\n",
    "  for i in range(1,len(annotationSymbol)-1):\n",
    "      f.write(str(annotationSymbol[i])+'\\n')\n",
    "  f.close()\n",
    "  return\n",
    "\n",
    "def PrepareFiles(filenames , directory):\n",
    "  print('writing files has been started')\n",
    "  for i in range(0,len(filenames)):\n",
    "      print('Now in record '+str(filenames[i]))\n",
    "      annotation = wfdb.rdann(r'./Dataset/mitdb/' + str(filenames[i]), 'atr')\n",
    "      annotation.symbol, annotation.sample = filterAnnotation(annotation)\n",
    "      sig, fields = wfdb.rdsamp(r'./Dataset/mitdb/' + str(filenames[i]), channels=[0], sampfrom=0, sampto=None)\n",
    "      beats = PreProcessing(sig,fields['fs'],annotation.sample)\n",
    "\n",
    "      AppendBeatsOfSignalToFile(beats,directory+'mitdbAllBeats.txt')\n",
    "      WriteAnnotationSymbolToFile(annotation.symbol,directory+'mitdbAllAnnotationsSymbols.txt')\n",
    "  print('done')\n",
    "\n",
    "\n",
    "\n",
    "def ClusteringBeatsInFiles(BeatsFilePath,AnnotationFilePath , directory):\n",
    "  classes = ['N', 'L', 'R', 'A', 'V', '/']\n",
    "  bf = open(BeatsFilePath,\"r\")\n",
    "  annf = open(AnnotationFilePath,\"r\")\n",
    "  beats = bf.readlines()\n",
    "  annotations = annf.readlines()\n",
    "  print(len(beats))\n",
    "  print(len(annotations))\n",
    "  b = {}\n",
    "  files = {'N':'Normal',\n",
    "            'L':'Left_bundle_branch_block',\n",
    "            'R':'Right_bundle_branch_block',\n",
    "            'A':'Atrial_premature',\n",
    "            'V':'Premature_ventricular_contraction',\n",
    "            '/':'Paced'}\n",
    "  for i in classes:\n",
    "      b[i] = []\n",
    "  for i in range(len(beats)):\n",
    "      b[annotations[i].split('\\n')[0]].append(beats[i])\n",
    "  for ann , bts in b.items():\n",
    "      f = open(directory+files[ann]+'.txt' , \"w\")\n",
    "      f.writelines(bts)\n",
    "      f.close()"
   ]
  },
  {
   "cell_type": "code",
   "execution_count": 31,
   "metadata": {
    "executionInfo": {
     "elapsed": 6,
     "status": "ok",
     "timestamp": 1741357995215,
     "user": {
      "displayName": "Thành Trương Minh",
      "userId": "15206623473024326441"
     },
     "user_tz": -420
    },
    "id": "Cuw3EJmE3z1s"
   },
   "outputs": [],
   "source": [
    "all_records = [100, 101, 102, 103, 104, 105, 106, 107, 108, 109,\n",
    "             111, 112, 113, 114, 115, 116, 117, 118, 119, 121,\n",
    "             122, 123, 124, 200, 201, 202, 203, 205, 207, 208,\n",
    "             209, 210, 212, 213, 214, 215, 217, 219, 220, 221,\n",
    "             222, 223, 228, 230, 231, 232, 233, 234]\n",
    "\n",
    "train_records = [101,102, 104, 106,108,109,112,114,115,116,118,119,122,124,201,203,205,207,208,209,215,220,223,230]\n",
    "test_records = [100,103,105,107, 111,113,117,121,123,200,202,210,212,213,214, 217,219,221,222,228,231,232,233,234]"
   ]
  },
  {
   "cell_type": "code",
   "execution_count": 32,
   "metadata": {
    "colab": {
     "base_uri": "https://localhost:8080/"
    },
    "executionInfo": {
     "elapsed": 103163,
     "status": "ok",
     "timestamp": 1741358098376,
     "user": {
      "displayName": "Thành Trương Minh",
      "userId": "15206623473024326441"
     },
     "user_tz": -420
    },
    "id": "eQOgM8nVi1yX",
    "outputId": "e589d722-5b44-4148-9446-66aa1363e7ce"
   },
   "outputs": [
    {
     "name": "stdout",
     "output_type": "stream",
     "text": [
      "writing files has been started\n",
      "Now in record 101\n",
      "Now in record 102\n",
      "Now in record 104\n",
      "Now in record 106\n",
      "Now in record 108\n",
      "Now in record 109\n",
      "Now in record 112\n",
      "Now in record 114\n",
      "Now in record 115\n",
      "Now in record 116\n",
      "Now in record 118\n",
      "Now in record 119\n",
      "Now in record 122\n",
      "Now in record 124\n",
      "Now in record 201\n",
      "Now in record 203\n",
      "Now in record 205\n",
      "Now in record 207\n",
      "Now in record 208\n",
      "Now in record 209\n",
      "Now in record 215\n",
      "Now in record 220\n",
      "Now in record 223\n",
      "Now in record 230\n",
      "done\n",
      "writing files has been started\n",
      "Now in record 100\n",
      "Now in record 103\n",
      "Now in record 105\n",
      "Now in record 107\n",
      "Now in record 111\n",
      "Now in record 113\n",
      "Now in record 117\n",
      "Now in record 121\n",
      "Now in record 123\n",
      "Now in record 200\n",
      "Now in record 202\n",
      "Now in record 210\n",
      "Now in record 212\n",
      "Now in record 213\n",
      "Now in record 214\n",
      "Now in record 217\n",
      "Now in record 219\n",
      "Now in record 221\n",
      "Now in record 222\n",
      "Now in record 228\n",
      "Now in record 231\n",
      "Now in record 232\n",
      "Now in record 233\n",
      "Now in record 234\n",
      "done\n",
      "1187010\n",
      "1187010\n",
      "1166858\n",
      "1166858\n"
     ]
    }
   ],
   "source": [
    "data_dir = r'./Data_00/'\n",
    "train_dir = data_dir + r'/Train/'\n",
    "test_dir = data_dir + r'/Test/'\n",
    "PrepareFiles(train_records,train_dir)\n",
    "PrepareFiles(test_records,test_dir)\n",
    "\n",
    "ClusteringBeatsInFiles(train_dir+'mitdbAllBeats.txt' , train_dir+'mitdbAllAnnotationsSymbols.txt',train_dir)\n",
    "ClusteringBeatsInFiles(test_dir+'mitdbAllBeats.txt' , test_dir+'mitdbAllAnnotationsSymbols.txt',test_dir)"
   ]
  },
  {
   "cell_type": "code",
   "execution_count": 33,
   "metadata": {
    "executionInfo": {
     "elapsed": 16,
     "status": "ok",
     "timestamp": 1741358108468,
     "user": {
      "displayName": "Thành Trương Minh",
      "userId": "15206623473024326441"
     },
     "user_tz": -420
    },
    "id": "vDAvPq2Li11J"
   },
   "outputs": [],
   "source": [
    "def One_Hot_Encoded_Y(classNumber,NumberOfClasses,NumberOfSamples):\n",
    "  if NumberOfSamples == 0:\n",
    "    Y = np.empty((0,NumberOfClasses))\n",
    "    return Y\n",
    "  Yi = np.zeros(NumberOfClasses)\n",
    "  Yi[classNumber] = 1\n",
    "  Y = np.vstack([Yi]*NumberOfSamples)\n",
    "  return Y\n",
    "# Read Class from Text file and return X , Y\n",
    "def ReadClassData(path,ZeroBased_classNumber,NumOfClasses):\n",
    "  Data = open(path, \"r\").readlines()\n",
    "  X = []\n",
    "  for i in Data:\n",
    "      row = i.split('|')\n",
    "      row.remove('\\n')\n",
    "      row = list(map(float, row))\n",
    "      X.append(row)\n",
    "  X = np.array(X)\n",
    "  if X.shape[0] == 0:\n",
    "    X = np.empty((0,300))\n",
    "  Y = One_Hot_Encoded_Y(ZeroBased_classNumber,NumOfClasses,X.shape[0])\n",
    "  return X,Y\n",
    "\n",
    "# concatenate classes training data & testing data and make Y for this category\n",
    "def Prepare_Category(ClassesTrainData,ClassesTestData, classNumber,NumberOfCategories,MultiClassCategory=True):\n",
    "  if MultiClassCategory:\n",
    "\n",
    "    Ncat_X_train= np.concatenate(ClassesTrainData, axis=0)\n",
    "    Ncat_X_test = np.concatenate(ClassesTestData, axis=0)\n",
    "  else:\n",
    "    print('category of one class')\n",
    "    Ncat_X_train = ClassesTrainData\n",
    "    Ncat_X_test = ClassesTestData\n",
    "\n",
    "  Ncat_Y_train = One_Hot_Encoded_Y(classNumber,NumberOfCategories,Ncat_X_train.shape[0])\n",
    "\n",
    "\n",
    "  Ncat_Y_test = One_Hot_Encoded_Y(classNumber,NumberOfCategories,Ncat_X_test.shape[0])\n",
    "\n",
    "  #Ncat_X_train,Ncat_Y_train = shuffle(Ncat_X_train,Ncat_Y_train)\n",
    "  #Ncat_X_test , Ncat_Y_test = shuffle(Ncat_X_test , Ncat_Y_test)\n",
    "  return Ncat_X_train , Ncat_X_test , Ncat_Y_train , Ncat_Y_test\n",
    "\n",
    "def Model_Y(NumberOfSamplesEachClass = []):\n",
    "  NumberOfClasses = len(NumberOfSamplesEachClass)\n",
    "  Ys = []\n",
    "  for i in range(NumberOfClasses):\n",
    "      Ys.append(One_Hot_Encoded_Y(i,NumberOfClasses,NumberOfSamplesEachClass[i]))\n",
    "  Ys = tuple(Ys)\n",
    "  Y = np.concatenate(Ys,axis=0)\n",
    "  return Y\n"
   ]
  },
  {
   "cell_type": "code",
   "execution_count": 34,
   "metadata": {
    "executionInfo": {
     "elapsed": 23088,
     "status": "ok",
     "timestamp": 1741358131559,
     "user": {
      "displayName": "Thành Trương Minh",
      "userId": "15206623473024326441"
     },
     "user_tz": -420
    },
    "id": "R1naR9qRi13C"
   },
   "outputs": [],
   "source": [
    "files = {'N':'Normal',\n",
    "          'L':'Left_bundle_branch_block',\n",
    "          'R':'Right_bundle_branch_block',\n",
    "          'A':'Atrial_premature',\n",
    "          'V':'Premature_ventricular_contraction',\n",
    "          '/':'Paced'}\n",
    "directory_train   = './Data_00/Train/'\n",
    "directory_test    = './Data_00/Test/'\n",
    "\n",
    "shuff = True\n",
    "NumOfClasses = 6\n",
    "\n",
    "path = directory_train + files['N'] + '.txt'\n",
    "XN_train , YN_train = ReadClassData(path,0,NumOfClasses)\n",
    "path = directory_test + files['N'] + '.txt'\n",
    "XN_test , YN_test = ReadClassData(path,0,NumOfClasses)\n",
    "\n",
    "\n",
    "path = directory_train + files['L'] + '.txt'\n",
    "XL_train , YL_train = ReadClassData(path,1,NumOfClasses)\n",
    "path = directory_test + files['L'] + '.txt'\n",
    "XL_test , YL_test = ReadClassData(path,1,NumOfClasses)\n",
    "\n",
    "\n",
    "path = directory_train + files['R'] + '.txt'\n",
    "XR_train , YR_train = ReadClassData(path,2,NumOfClasses)\n",
    "path = directory_test + files['R'] + '.txt'\n",
    "XR_test , YR_test = ReadClassData(path,2,NumOfClasses)\n",
    "\n",
    "path = directory_train + files['A'] + '.txt'\n",
    "XA_train , YA_train = ReadClassData(path,3,NumOfClasses)\n",
    "path = directory_test + files['A'] + '.txt'\n",
    "XA_test , YA_test = ReadClassData(path,3,NumOfClasses)\n",
    "\n",
    "\n",
    "path = directory_train + files['V'] + '.txt'\n",
    "XV_train , YV_train = ReadClassData(path,4,NumOfClasses)\n",
    "path = directory_test + files['V'] + '.txt'\n",
    "XV_test , YV_test = ReadClassData(path,4,NumOfClasses)\n",
    "\n",
    "\n",
    "path = directory_train + files['/'] + '.txt'\n",
    "XP_train , YP_train = ReadClassData(path,5,NumOfClasses)\n",
    "path = directory_test + files['/'] + '.txt'\n",
    "XP_test , YP_test = ReadClassData(path,5,NumOfClasses)"
   ]
  },
  {
   "cell_type": "code",
   "execution_count": 35,
   "metadata": {
    "executionInfo": {
     "elapsed": 899,
     "status": "ok",
     "timestamp": 1741358132457,
     "user": {
      "displayName": "Thành Trương Minh",
      "userId": "15206623473024326441"
     },
     "user_tz": -420
    },
    "id": "46s-Va4g8fyE"
   },
   "outputs": [],
   "source": [
    "X_TRAIN= np.concatenate((XA_train,XL_train,XN_train,XR_train,XV_train,XP_train), axis=0)\n",
    "Y_TRAIN= np.concatenate((YA_train,YL_train,YN_train,YR_train,YV_train,YP_train), axis=0)\n",
    "\n",
    "X_TEST= np.concatenate((XA_test,XL_test,XN_test,XR_test,XV_test,XP_test), axis=0)\n",
    "Y_TEST= np.concatenate((YA_test,YL_test,YN_test,YR_test,YV_test,YP_test), axis=0)\n",
    "\n",
    "X_train , Y_train = shuffle(X_TRAIN , Y_TRAIN)\n",
    "X_test,Y_test = shuffle( X_TEST,Y_TEST)\n",
    "X_train = np.expand_dims(X_train,axis=-1)\n",
    "X_test = np.expand_dims(X_test,axis=-1)"
   ]
  },
  {
   "cell_type": "code",
   "execution_count": 38,
   "metadata": {
    "executionInfo": {
     "elapsed": 4,
     "status": "ok",
     "timestamp": 1741358132464,
     "user": {
      "displayName": "Thành Trương Minh",
      "userId": "15206623473024326441"
     },
     "user_tz": -420
    },
    "id": "VzOAXb9R9zWr"
   },
   "outputs": [],
   "source": [
    "def ECG_MODEL(nclass = 6):\n",
    "    inp = Input(shape=(24, 1))\n",
    "    lay = Conv1D(3, kernel_size=7, activation='relu', padding=\"same\")(inp)\n",
    "    lay = MaxPooling1D(pool_size=2)(lay)\n",
    "\n",
    "\n",
    "    lay = Conv1D(1, kernel_size=1, activation='relu', padding=\"same\")(lay)\n",
    "\n",
    "    lay = Conv1D(3, kernel_size=7, activation='relu', padding=\"same\")(lay)\n",
    "    lay = MaxPooling1D(pool_size=3)(lay)\n",
    "\n",
    "    flat = Flatten()(lay)\n",
    "\n",
    "    dense_1 = Dense(21, activation='relu')(flat)\n",
    "\n",
    "    dense_2 = Dense(nclass, activation='softmax')(dense_1)\n",
    "\n",
    "    model = Model(inputs=inp, outputs=dense_2)\n",
    "    model.compile(optimizer=Adam(learning_rate=0.0001), \n",
    "                  loss=CategoricalCrossentropy(),\n",
    "                  metrics=['acc'])\n",
    "    model.summary()\n",
    "    return model"
   ]
  },
  {
   "cell_type": "code",
   "execution_count": 39,
   "metadata": {
    "colab": {
     "base_uri": "https://localhost:8080/",
     "height": 374
    },
    "executionInfo": {
     "elapsed": 199,
     "status": "ok",
     "timestamp": 1741358132665,
     "user": {
      "displayName": "Thành Trương Minh",
      "userId": "15206623473024326441"
     },
     "user_tz": -420
    },
    "id": "vmZgnwJH9zZJ",
    "outputId": "c562c5fa-894a-4a1d-96b2-50d90380ff17"
   },
   "outputs": [
    {
     "data": {
      "text/html": [
       "<pre style=\"white-space:pre;overflow-x:auto;line-height:normal;font-family:Menlo,'DejaVu Sans Mono',consolas,'Courier New',monospace\"><span style=\"font-weight: bold\">Model: \"functional_2\"</span>\n",
       "</pre>\n"
      ],
      "text/plain": [
       "\u001b[1mModel: \"functional_2\"\u001b[0m\n"
      ]
     },
     "metadata": {},
     "output_type": "display_data"
    },
    {
     "data": {
      "text/html": [
       "<pre style=\"white-space:pre;overflow-x:auto;line-height:normal;font-family:Menlo,'DejaVu Sans Mono',consolas,'Courier New',monospace\">┏━━━━━━━━━━━━━━━━━━━━━━━━━━━━━━━━━┳━━━━━━━━━━━━━━━━━━━━━━━━┳━━━━━━━━━━━━━━━┓\n",
       "┃<span style=\"font-weight: bold\"> Layer (type)                    </span>┃<span style=\"font-weight: bold\"> Output Shape           </span>┃<span style=\"font-weight: bold\">       Param # </span>┃\n",
       "┡━━━━━━━━━━━━━━━━━━━━━━━━━━━━━━━━━╇━━━━━━━━━━━━━━━━━━━━━━━━╇━━━━━━━━━━━━━━━┩\n",
       "│ input_layer_2 (<span style=\"color: #0087ff; text-decoration-color: #0087ff\">InputLayer</span>)      │ (<span style=\"color: #00d7ff; text-decoration-color: #00d7ff\">None</span>, <span style=\"color: #00af00; text-decoration-color: #00af00\">24</span>, <span style=\"color: #00af00; text-decoration-color: #00af00\">1</span>)          │             <span style=\"color: #00af00; text-decoration-color: #00af00\">0</span> │\n",
       "├─────────────────────────────────┼────────────────────────┼───────────────┤\n",
       "│ conv1d_6 (<span style=\"color: #0087ff; text-decoration-color: #0087ff\">Conv1D</span>)               │ (<span style=\"color: #00d7ff; text-decoration-color: #00d7ff\">None</span>, <span style=\"color: #00af00; text-decoration-color: #00af00\">24</span>, <span style=\"color: #00af00; text-decoration-color: #00af00\">3</span>)          │            <span style=\"color: #00af00; text-decoration-color: #00af00\">24</span> │\n",
       "├─────────────────────────────────┼────────────────────────┼───────────────┤\n",
       "│ max_pooling1d_4 (<span style=\"color: #0087ff; text-decoration-color: #0087ff\">MaxPooling1D</span>)  │ (<span style=\"color: #00d7ff; text-decoration-color: #00d7ff\">None</span>, <span style=\"color: #00af00; text-decoration-color: #00af00\">12</span>, <span style=\"color: #00af00; text-decoration-color: #00af00\">3</span>)          │             <span style=\"color: #00af00; text-decoration-color: #00af00\">0</span> │\n",
       "├─────────────────────────────────┼────────────────────────┼───────────────┤\n",
       "│ conv1d_7 (<span style=\"color: #0087ff; text-decoration-color: #0087ff\">Conv1D</span>)               │ (<span style=\"color: #00d7ff; text-decoration-color: #00d7ff\">None</span>, <span style=\"color: #00af00; text-decoration-color: #00af00\">12</span>, <span style=\"color: #00af00; text-decoration-color: #00af00\">1</span>)          │             <span style=\"color: #00af00; text-decoration-color: #00af00\">4</span> │\n",
       "├─────────────────────────────────┼────────────────────────┼───────────────┤\n",
       "│ conv1d_8 (<span style=\"color: #0087ff; text-decoration-color: #0087ff\">Conv1D</span>)               │ (<span style=\"color: #00d7ff; text-decoration-color: #00d7ff\">None</span>, <span style=\"color: #00af00; text-decoration-color: #00af00\">12</span>, <span style=\"color: #00af00; text-decoration-color: #00af00\">3</span>)          │            <span style=\"color: #00af00; text-decoration-color: #00af00\">24</span> │\n",
       "├─────────────────────────────────┼────────────────────────┼───────────────┤\n",
       "│ max_pooling1d_5 (<span style=\"color: #0087ff; text-decoration-color: #0087ff\">MaxPooling1D</span>)  │ (<span style=\"color: #00d7ff; text-decoration-color: #00d7ff\">None</span>, <span style=\"color: #00af00; text-decoration-color: #00af00\">4</span>, <span style=\"color: #00af00; text-decoration-color: #00af00\">3</span>)           │             <span style=\"color: #00af00; text-decoration-color: #00af00\">0</span> │\n",
       "├─────────────────────────────────┼────────────────────────┼───────────────┤\n",
       "│ flatten_2 (<span style=\"color: #0087ff; text-decoration-color: #0087ff\">Flatten</span>)             │ (<span style=\"color: #00d7ff; text-decoration-color: #00d7ff\">None</span>, <span style=\"color: #00af00; text-decoration-color: #00af00\">12</span>)             │             <span style=\"color: #00af00; text-decoration-color: #00af00\">0</span> │\n",
       "├─────────────────────────────────┼────────────────────────┼───────────────┤\n",
       "│ dense_4 (<span style=\"color: #0087ff; text-decoration-color: #0087ff\">Dense</span>)                 │ (<span style=\"color: #00d7ff; text-decoration-color: #00d7ff\">None</span>, <span style=\"color: #00af00; text-decoration-color: #00af00\">21</span>)             │           <span style=\"color: #00af00; text-decoration-color: #00af00\">273</span> │\n",
       "├─────────────────────────────────┼────────────────────────┼───────────────┤\n",
       "│ dense_5 (<span style=\"color: #0087ff; text-decoration-color: #0087ff\">Dense</span>)                 │ (<span style=\"color: #00d7ff; text-decoration-color: #00d7ff\">None</span>, <span style=\"color: #00af00; text-decoration-color: #00af00\">6</span>)              │           <span style=\"color: #00af00; text-decoration-color: #00af00\">132</span> │\n",
       "└─────────────────────────────────┴────────────────────────┴───────────────┘\n",
       "</pre>\n"
      ],
      "text/plain": [
       "┏━━━━━━━━━━━━━━━━━━━━━━━━━━━━━━━━━┳━━━━━━━━━━━━━━━━━━━━━━━━┳━━━━━━━━━━━━━━━┓\n",
       "┃\u001b[1m \u001b[0m\u001b[1mLayer (type)                   \u001b[0m\u001b[1m \u001b[0m┃\u001b[1m \u001b[0m\u001b[1mOutput Shape          \u001b[0m\u001b[1m \u001b[0m┃\u001b[1m \u001b[0m\u001b[1m      Param #\u001b[0m\u001b[1m \u001b[0m┃\n",
       "┡━━━━━━━━━━━━━━━━━━━━━━━━━━━━━━━━━╇━━━━━━━━━━━━━━━━━━━━━━━━╇━━━━━━━━━━━━━━━┩\n",
       "│ input_layer_2 (\u001b[38;5;33mInputLayer\u001b[0m)      │ (\u001b[38;5;45mNone\u001b[0m, \u001b[38;5;34m24\u001b[0m, \u001b[38;5;34m1\u001b[0m)          │             \u001b[38;5;34m0\u001b[0m │\n",
       "├─────────────────────────────────┼────────────────────────┼───────────────┤\n",
       "│ conv1d_6 (\u001b[38;5;33mConv1D\u001b[0m)               │ (\u001b[38;5;45mNone\u001b[0m, \u001b[38;5;34m24\u001b[0m, \u001b[38;5;34m3\u001b[0m)          │            \u001b[38;5;34m24\u001b[0m │\n",
       "├─────────────────────────────────┼────────────────────────┼───────────────┤\n",
       "│ max_pooling1d_4 (\u001b[38;5;33mMaxPooling1D\u001b[0m)  │ (\u001b[38;5;45mNone\u001b[0m, \u001b[38;5;34m12\u001b[0m, \u001b[38;5;34m3\u001b[0m)          │             \u001b[38;5;34m0\u001b[0m │\n",
       "├─────────────────────────────────┼────────────────────────┼───────────────┤\n",
       "│ conv1d_7 (\u001b[38;5;33mConv1D\u001b[0m)               │ (\u001b[38;5;45mNone\u001b[0m, \u001b[38;5;34m12\u001b[0m, \u001b[38;5;34m1\u001b[0m)          │             \u001b[38;5;34m4\u001b[0m │\n",
       "├─────────────────────────────────┼────────────────────────┼───────────────┤\n",
       "│ conv1d_8 (\u001b[38;5;33mConv1D\u001b[0m)               │ (\u001b[38;5;45mNone\u001b[0m, \u001b[38;5;34m12\u001b[0m, \u001b[38;5;34m3\u001b[0m)          │            \u001b[38;5;34m24\u001b[0m │\n",
       "├─────────────────────────────────┼────────────────────────┼───────────────┤\n",
       "│ max_pooling1d_5 (\u001b[38;5;33mMaxPooling1D\u001b[0m)  │ (\u001b[38;5;45mNone\u001b[0m, \u001b[38;5;34m4\u001b[0m, \u001b[38;5;34m3\u001b[0m)           │             \u001b[38;5;34m0\u001b[0m │\n",
       "├─────────────────────────────────┼────────────────────────┼───────────────┤\n",
       "│ flatten_2 (\u001b[38;5;33mFlatten\u001b[0m)             │ (\u001b[38;5;45mNone\u001b[0m, \u001b[38;5;34m12\u001b[0m)             │             \u001b[38;5;34m0\u001b[0m │\n",
       "├─────────────────────────────────┼────────────────────────┼───────────────┤\n",
       "│ dense_4 (\u001b[38;5;33mDense\u001b[0m)                 │ (\u001b[38;5;45mNone\u001b[0m, \u001b[38;5;34m21\u001b[0m)             │           \u001b[38;5;34m273\u001b[0m │\n",
       "├─────────────────────────────────┼────────────────────────┼───────────────┤\n",
       "│ dense_5 (\u001b[38;5;33mDense\u001b[0m)                 │ (\u001b[38;5;45mNone\u001b[0m, \u001b[38;5;34m6\u001b[0m)              │           \u001b[38;5;34m132\u001b[0m │\n",
       "└─────────────────────────────────┴────────────────────────┴───────────────┘\n"
      ]
     },
     "metadata": {},
     "output_type": "display_data"
    },
    {
     "data": {
      "text/html": [
       "<pre style=\"white-space:pre;overflow-x:auto;line-height:normal;font-family:Menlo,'DejaVu Sans Mono',consolas,'Courier New',monospace\"><span style=\"font-weight: bold\"> Total params: </span><span style=\"color: #00af00; text-decoration-color: #00af00\">457</span> (1.79 KB)\n",
       "</pre>\n"
      ],
      "text/plain": [
       "\u001b[1m Total params: \u001b[0m\u001b[38;5;34m457\u001b[0m (1.79 KB)\n"
      ]
     },
     "metadata": {},
     "output_type": "display_data"
    },
    {
     "data": {
      "text/html": [
       "<pre style=\"white-space:pre;overflow-x:auto;line-height:normal;font-family:Menlo,'DejaVu Sans Mono',consolas,'Courier New',monospace\"><span style=\"font-weight: bold\"> Trainable params: </span><span style=\"color: #00af00; text-decoration-color: #00af00\">457</span> (1.79 KB)\n",
       "</pre>\n"
      ],
      "text/plain": [
       "\u001b[1m Trainable params: \u001b[0m\u001b[38;5;34m457\u001b[0m (1.79 KB)\n"
      ]
     },
     "metadata": {},
     "output_type": "display_data"
    },
    {
     "data": {
      "text/html": [
       "<pre style=\"white-space:pre;overflow-x:auto;line-height:normal;font-family:Menlo,'DejaVu Sans Mono',consolas,'Courier New',monospace\"><span style=\"font-weight: bold\"> Non-trainable params: </span><span style=\"color: #00af00; text-decoration-color: #00af00\">0</span> (0.00 B)\n",
       "</pre>\n"
      ],
      "text/plain": [
       "\u001b[1m Non-trainable params: \u001b[0m\u001b[38;5;34m0\u001b[0m (0.00 B)\n"
      ]
     },
     "metadata": {},
     "output_type": "display_data"
    }
   ],
   "source": [
    "model = ECG_MODEL()"
   ]
  },
  {
   "cell_type": "code",
   "execution_count": null,
   "metadata": {
    "colab": {
     "background_save": true,
     "base_uri": "https://localhost:8080/"
    },
    "executionInfo": {
     "elapsed": 26473808,
     "status": "ok",
     "timestamp": 1741393347930,
     "user": {
      "displayName": "Thành Trương Minh",
      "userId": "15206623473024326441"
     },
     "user_tz": -420
    },
    "id": "fyQ6HXEe9zbZ"
   },
   "outputs": [
    {
     "name": "stdout",
     "output_type": "stream",
     "text": [
      "Epoch 1/200\n",
      "\u001b[1m37095/37095\u001b[0m \u001b[32m━━━━━━━━━━━━━━━━━━━━\u001b[0m\u001b[37m\u001b[0m \u001b[1m442s\u001b[0m 12ms/step - acc: 0.7104 - loss: 1.1215 - val_acc: 0.6911 - val_loss: 1.1134\n",
      "Epoch 2/200\n",
      "\u001b[1m37095/37095\u001b[0m \u001b[32m━━━━━━━━━━━━━━━━━━━━\u001b[0m\u001b[37m\u001b[0m \u001b[1m407s\u001b[0m 11ms/step - acc: 0.7105 - loss: 1.0411 - val_acc: 0.6911 - val_loss: 1.1142\n",
      "Epoch 3/200\n",
      "\u001b[1m37095/37095\u001b[0m \u001b[32m━━━━━━━━━━━━━━━━━━━━\u001b[0m\u001b[37m\u001b[0m \u001b[1m0s\u001b[0m 7ms/step - acc: 0.7103 - loss: 1.0415"
     ]
    }
   ],
   "source": [
    "# Tham số huấn luyện\n",
    "epochs = 200\n",
    "batch_size = 32\n",
    "\n",
    "# Huấn luyện mô hình\n",
    "history = model.fit(X_train, Y_train,\n",
    "                    validation_data=(X_test, Y_test),\n",
    "                    epochs=epochs,\n",
    "                    batch_size=batch_size,\n",
    "                    verbose=1)"
   ]
  },
  {
   "cell_type": "code",
   "execution_count": 19,
   "metadata": {
    "colab": {
     "background_save": true
    },
    "executionInfo": {
     "elapsed": 5,
     "status": "ok",
     "timestamp": 1741393347999,
     "user": {
      "displayName": "Thành Trương Minh",
      "userId": "15206623473024326441"
     },
     "user_tz": -420
    },
    "id": "s3QX1Ily9zd3"
   },
   "outputs": [],
   "source": [
    "\"\"\"Model Construction\"\"\"\n",
    "\n",
    "def Build_Confusion_Matrix(y_test,y_pred,num_of_classes):\n",
    "  confusion_matrix = np.zeros((num_of_classes,num_of_classes))\n",
    "  for i in range(len(y_test)):\n",
    "    confusion_matrix[y_test[i],y_pred[i]]+=1\n",
    "  return confusion_matrix\n",
    "\n",
    "def Calculate_Accuracy(confusion_matrix):\n",
    "  acc = (np.sum(confusion_matrix.diagonal())/np.sum(confusion_matrix))*100\n",
    "  accuracies = []\n",
    "  for i in range(len(confusion_matrix)):\n",
    "    class_count = confusion_matrix[i,i]\n",
    "    if class_count == 0:\n",
    "      accuracies.append(0)\n",
    "    else:\n",
    "      ac = (confusion_matrix[i,i]/np.sum(confusion_matrix[i,:]))*100\n",
    "      accuracies.append(ac)\n",
    "  print(accuracies)\n",
    "  average_accuracy = np.average(accuracies)\n",
    "  print('Average Accuracy', average_accuracy )\n",
    "  print('Overall Accuracy',acc)\n",
    "\n",
    "  return acc , average_accuracy\n",
    "\n",
    "def Evaluate(y_test,y_pred,num_of_classes):\n",
    "  confusion_matrix = Build_Confusion_Matrix(y_test,y_pred,num_of_classes)\n",
    "  confusion_matrix = np.int64(confusion_matrix)\n",
    "  print(confusion_matrix)\n",
    "  return Calculate_Accuracy(confusion_matrix)\n",
    "\n",
    "def Predict_and_Evaluate(model,X_test,Y_test,NumOfClasses):\n",
    "  Y_predict = model.predict(X_test)\n",
    "  inds = np.argmax(Y_test,axis=1)\n",
    "  pred = np.argmax(Y_predict,axis=1)\n",
    "  accuracy = sum([np.argmax(Y_predict[i])==np.argmax(Y_test[i]) for i in range(len(Y_test))])/len(Y_test)\n",
    "  print(accuracy)\n",
    "  return Evaluate( inds , pred , NumOfClasses)\n",
    "\n",
    "\n",
    "def Plot_Confusion_Matrix(confusion_matrix, class_names):\n",
    "    plt.figure(figsize=(10,7))\n",
    "    sns.heatmap(confusion_matrix, annot=True, fmt=\"d\", cmap=\"Blues\",\n",
    "                xticklabels=class_names, yticklabels=class_names)\n",
    "    plt.xlabel('Predicted')\n",
    "    plt.ylabel('Actual')\n",
    "    plt.title('Confusion Matrix')\n",
    "    plt.show()"
   ]
  },
  {
   "cell_type": "code",
   "execution_count": 20,
   "metadata": {
    "colab": {
     "background_save": true
    },
    "executionInfo": {
     "elapsed": 1,
     "status": "ok",
     "timestamp": 1741393348013,
     "user": {
      "displayName": "Thành Trương Minh",
      "userId": "15206623473024326441"
     },
     "user_tz": -420
    },
    "id": "viF8u1X_CdyI"
   },
   "outputs": [],
   "source": [
    "num_of_classes = 6"
   ]
  },
  {
   "cell_type": "code",
   "execution_count": 21,
   "metadata": {
    "colab": {
     "background_save": true,
     "base_uri": "https://localhost:8080/"
    },
    "id": "b3IIr9gUCd0X"
   },
   "outputs": [
    {
     "name": "stdout",
     "output_type": "stream",
     "text": [
      "\u001b[1m34807/34807\u001b[0m \u001b[32m━━━━━━━━━━━━━━━━━━━━\u001b[0m\u001b[37m\u001b[0m \u001b[1m55s\u001b[0m 2ms/step\n",
      "0.701702879911368\n",
      "[[706531   2612  10844   2647  37266   9855]\n",
      " [ 67942   2056   5127     18   3202   8217]\n",
      " [ 65183    190   2918    324   1681   2616]\n",
      " [ 20651    179   9195    126   1364   4920]\n",
      " [ 10992   1292   3910   1350  50462   4213]\n",
      " [  9779    283   2519    846  43032  19477]]\n",
      "[91.78647751557314, 2.375176174302812, 4.002084704849682, 0.345821325648415, 69.87357897506197, 25.64923093131058]\n",
      "Average Accuracy 32.33872827112443\n",
      "Overall Accuracy 70.1702879911368\n"
     ]
    }
   ],
   "source": [
    "accuracy, avg_accuracy = Predict_and_Evaluate(model, X_test, Y_test, NumOfClasses)"
   ]
  },
  {
   "cell_type": "code",
   "execution_count": 22,
   "metadata": {
    "id": "tFLmaXF9Cd39"
   },
   "outputs": [
    {
     "name": "stdout",
     "output_type": "stream",
     "text": [
      "\u001b[1m34807/34807\u001b[0m \u001b[32m━━━━━━━━━━━━━━━━━━━━\u001b[0m\u001b[37m\u001b[0m \u001b[1m54s\u001b[0m 2ms/step\n"
     ]
    }
   ],
   "source": [
    "Y_predict = model.predict(X_test)\n",
    "y_pred = np.argmax(Y_predict, axis=1)\n",
    "y_test = np.argmax(Y_test, axis=1)"
   ]
  },
  {
   "cell_type": "code",
   "execution_count": 23,
   "metadata": {
    "id": "sUfafKRSGSA6"
   },
   "outputs": [],
   "source": [
    "conf_matrix = Build_Confusion_Matrix(y_test, y_pred, NumOfClasses)"
   ]
  },
  {
   "cell_type": "code",
   "execution_count": null,
   "metadata": {
    "id": "jX2-xRfGGSDb"
   },
   "outputs": [
    {
     "data": {
      "image/png": "[encoded data removed]",
      "text/plain": [
       "<Figure size 800x600 with 2 Axes>"
      ]
     },
     "metadata": {},
     "output_type": "display_data"
    }
   ],
   "source": [
    "plt.figure(figsize=(8, 6))\n",
    "sns.heatmap(conf_matrix, annot=True, fmt=\".0f\", cmap=\"Blues\", xticklabels=range(NumOfClasses), yticklabels=range(NumOfClasses))\n",
    "plt.xlabel(\"Predicted Label\")\n",
    "plt.ylabel(\"True Label\")\n",
    "plt.title(\"Confusion Matrix\")\n",
    "plt.savefig(\"./Output_03/confusion_matrix.png\")  # Lưu hình ảnh\n",
    "plt.show()"
   ]
  },
  {
   "cell_type": "code",
   "execution_count": 26,
   "metadata": {
    "id": "akXOJKQrXIy4"
   },
   "outputs": [
    {
     "name": "stdout",
     "output_type": "stream",
     "text": [
      "\u001b[1m34807/34807\u001b[0m \u001b[32m━━━━━━━━━━━━━━━━━━━━\u001b[0m\u001b[37m\u001b[0m \u001b[1m100s\u001b[0m 3ms/step - acc: 0.7012 - loss: 2.6409\n"
     ]
    }
   ],
   "source": [
    "test_loss, test_accuracy = model.evaluate(X_test, Y_test)"
   ]
  },
  {
   "cell_type": "code",
   "execution_count": null,
   "metadata": {
    "id": "xo268uk0WkKa"
   },
   "outputs": [
    {
     "name": "stderr",
     "output_type": "stream",
     "text": [
      "WARNING:absl:You are saving your model as an HDF5 file via `model.save()` or `keras.saving.save_model(model)`. This file format is considered legacy. We recommend using instead the native Keras format, e.g. `model.save('my_model.keras')` or `keras.saving.save_model(model, 'my_model.keras')`. \n"
     ]
    }
   ],
   "source": [
    "model.save(r\"./Output_03/ecg_model.h5\")\n",
    "\n",
    "np.savez(r\"./Output_03/model_results.npz\",\n",
    "         confusion_matrix=conf_matrix,\n",
    "         accuracy=test_accuracy,\n",
    "         loss=test_loss)\n",
    "\n",
    "with open(r\"./Output_03/model_metrics.pkl\", \"wb\") as f:\n",
    "    pickle.dump({\"confusion_matrix\": conf_matrix, \"accuracy\": test_accuracy, \"loss\": test_loss}, f)\n"
   ]
  }
 ],
 "metadata": {
  "colab": {
   "name": "",
   "version": ""
  },
  "kernelspec": {
   "display_name": "base",
   "language": "python",
   "name": "python3"
  },
  "language_info": {
   "codemirror_mode": {
    "name": "ipython",
    "version": 3
   },
   "file_extension": ".py",
   "mimetype": "text/x-python",
   "name": "python",
   "nbconvert_exporter": "python",
   "pygments_lexer": "ipython3",
   "version": "3.12.7"
  }
 },
 "nbformat": 4,
 "nbformat_minor": 0
}
